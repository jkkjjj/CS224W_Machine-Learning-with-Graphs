{
  "nbformat": 4,
  "nbformat_minor": 0,
  "metadata": {
    "accelerator": "GPU",
    "colab": {
      "name": "CS224W - Colab 3.ipynb",
      "provenance": [],
      "collapsed_sections": [],
      "machine_shape": "hm",
      "include_colab_link": true
    },
    "kernelspec": {
      "display_name": "Python 3",
      "language": "python",
      "name": "python3"
    },
    "language_info": {
      "codemirror_mode": {
        "name": "ipython",
        "version": 3
      },
      "file_extension": ".py",
      "mimetype": "text/x-python",
      "name": "python",
      "nbconvert_exporter": "python",
      "pygments_lexer": "ipython3",
      "version": "3.7.3"
    }
  },
  "cells": [
    {
      "cell_type": "markdown",
      "metadata": {
        "id": "view-in-github",
        "colab_type": "text"
      },
      "source": [
        "<a href=\"https://colab.research.google.com/github/fanyun-sun/CS224w/blob/main/CS224W_Colab_3.ipynb\" target=\"_parent\"><img src=\"https://colab.research.google.com/assets/colab-badge.svg\" alt=\"Open In Colab\"/></a>"
      ]
    },
    {
      "cell_type": "markdown",
      "metadata": {
        "id": "XuXWJLEm2UWS"
      },
      "source": [
        "# **CS224W - Colab 3**"
      ]
    },
    {
      "cell_type": "markdown",
      "metadata": {
        "id": "8gzsP50bF6Gb"
      },
      "source": [
        "In Colab 2 we constructed GNN models by using PyTorch Geometric built in GCN layer, the `GCNConv`. In this Colab we will implement the **GraphSAGE** ([Hamilton et al. (2017)](https://arxiv.org/abs/1706.02216)) and **GAT** ([Veličković et al. (2018)](https://arxiv.org/abs/1710.10903)) layers directly. Then we will run our models on the CORA dataset, which is a stanford citation network benchmark dataset.\n",
        "\n",
        "We will then use [DeepSNAP](https://snap.stanford.edu/deepsnap/), a Python library assisting efficient deep learning on graphs, to split the graphs in different settings and apply dataset transformations.\n",
        "\n",
        "At last, using DeepSNAP transductive link prediction split functionality, we will construct a simple GNN model on the edge property predition (link prediction) task.\n",
        "\n",
        "**Note**: Make sure to **sequentially run all the cells in each section**, so that the intermediate variables / packages will carry over to the next cell\n",
        "\n",
        "Have fun on Colab 3 :)"
      ]
    },
    {
      "cell_type": "markdown",
      "metadata": {
        "id": "MSaetj53YnT6"
      },
      "source": [
        "# Device\n",
        "You might need to use GPU for this Colab.\n",
        "\n",
        "Please click `Runtime` and then `Change runtime type`. Then set the `hardware accelerator` to **GPU**."
      ]
    },
    {
      "cell_type": "markdown",
      "metadata": {
        "id": "67gOQITlCNQi"
      },
      "source": [
        "## Installation"
      ]
    },
    {
      "cell_type": "code",
      "metadata": {
        "id": "J_m9l6OYCQZP",
        "colab": {
          "base_uri": "https://localhost:8080/"
        },
        "outputId": "780f3ec6-b58a-4d77-b2cd-16d76e1acb90"
      },
      "source": [
        "!pip install -q torch-scatter -f https://pytorch-geometric.com/whl/torch-1.7.0+cu101.html\n",
        "!pip install -q torch-sparse -f https://pytorch-geometric.com/whl/torch-1.7.0+cu101.html\n",
        "!pip install -q torch-geometric\n",
        "!pip install -q git+https://github.com/snap-stanford/deepsnap.git"
      ],
      "execution_count": 1,
      "outputs": [
        {
          "output_type": "stream",
          "text": [
            "\u001b[K     |████████████████████████████████| 11.9MB 1.9MB/s \n",
            "\u001b[K     |████████████████████████████████| 24.3MB 132kB/s \n",
            "\u001b[K     |████████████████████████████████| 194kB 4.4MB/s \n",
            "\u001b[K     |████████████████████████████████| 235kB 5.9MB/s \n",
            "\u001b[K     |████████████████████████████████| 2.2MB 8.1MB/s \n",
            "\u001b[K     |████████████████████████████████| 51kB 5.6MB/s \n",
            "\u001b[?25h  Building wheel for torch-geometric (setup.py) ... \u001b[?25l\u001b[?25hdone\n",
            "  Building wheel for deepsnap (setup.py) ... \u001b[?25l\u001b[?25hdone\n"
          ],
          "name": "stdout"
        }
      ]
    },
    {
      "cell_type": "code",
      "metadata": {
        "id": "PRfgbfTjCRD_",
        "colab": {
          "base_uri": "https://localhost:8080/",
          "height": 35
        },
        "outputId": "363d6baf-2c1b-46e9-d5df-1d94b0fdc40a"
      },
      "source": [
        "import torch_geometric\n",
        "torch_geometric.__version__"
      ],
      "execution_count": 2,
      "outputs": [
        {
          "output_type": "execute_result",
          "data": {
            "application/vnd.google.colaboratory.intrinsic+json": {
              "type": "string"
            },
            "text/plain": [
              "'1.6.3'"
            ]
          },
          "metadata": {
            "tags": []
          },
          "execution_count": 2
        }
      ]
    },
    {
      "cell_type": "markdown",
      "metadata": {
        "id": "ZoXlf4MtYrbz"
      },
      "source": [
        "# 1 GNN Layers"
      ]
    },
    {
      "cell_type": "markdown",
      "metadata": {
        "id": "TQy2RBfgYut4"
      },
      "source": [
        "## Implementing Layer Modules\n",
        "\n",
        "In colab 2, we implemented a network using GCN in node and graph classification tasks. However, the GCN module we used in colab 2 is from the official library. For this problem, we will provide you with a general Graph Neural Network Stack, where you'll be able to plugin your own modules of GraphSAGE and GATs. We will use our implementations to complete node classification on CORA, which is a standard citation network benchmark dataset. In this dataset, nodes correspond to documents and edges correspond to undirected citations. Each node has a class label. The node features are elements of a bag-or-words representation of a document. For the Cora dataset, there are 2708 nodes, 5429 edges, 7 prediction classes for nodes, and 1433 features per node. "
      ]
    },
    {
      "cell_type": "markdown",
      "metadata": {
        "id": "H4ne6Gw-CT5G"
      },
      "source": [
        "## GNN Stack Module\n",
        "\n",
        "Below is the implementation for a general GNN Module that could plugin any layers, including **GraphSage**, **GAT**, etc. This module is provided for you, and you own **GraphSage** and **GAT** layers will function as components in the GNNStack Module."
      ]
    },
    {
      "cell_type": "code",
      "metadata": {
        "id": "Ys8vZAFPCWWe"
      },
      "source": [
        "import torch\n",
        "import torch_scatter\n",
        "import torch.nn as nn\n",
        "import torch.nn.functional as F\n",
        "\n",
        "import torch_geometric.nn as pyg_nn\n",
        "import torch_geometric.utils as pyg_utils\n",
        "\n",
        "from torch import Tensor\n",
        "from typing import Union, Tuple, Optional\n",
        "from torch_geometric.typing import (OptPairTensor, Adj, Size, NoneType,\n",
        "                                    OptTensor)\n",
        "\n",
        "from torch.nn import Parameter, Linear\n",
        "from torch_sparse import SparseTensor, set_diag\n",
        "from torch_geometric.nn.conv import MessagePassing\n",
        "from torch_geometric.utils import remove_self_loops, add_self_loops, softmax\n",
        "\n",
        "class GNNStack(torch.nn.Module):\n",
        "    def __init__(self, input_dim, hidden_dim, output_dim, args, emb=False):\n",
        "        super(GNNStack, self).__init__()\n",
        "        conv_model = self.build_conv_model(args.model_type)\n",
        "        self.convs = nn.ModuleList()\n",
        "        self.convs.append(conv_model(input_dim, hidden_dim))\n",
        "        assert (args.num_layers >= 1), 'Number of layers is not >=1'\n",
        "        for l in range(args.num_layers-1):\n",
        "            self.convs.append(conv_model(args.heads * hidden_dim, hidden_dim))\n",
        "\n",
        "        # post-message-passing\n",
        "        self.post_mp = nn.Sequential(\n",
        "            nn.Linear(args.heads * hidden_dim, hidden_dim), nn.Dropout(args.dropout), \n",
        "            nn.Linear(hidden_dim, output_dim))\n",
        "\n",
        "        self.dropout = args.dropout\n",
        "        self.num_layers = args.num_layers\n",
        "\n",
        "        self.emb = emb\n",
        "\n",
        "    def build_conv_model(self, model_type):\n",
        "        if model_type == 'GraphSage':\n",
        "            return GraphSage\n",
        "        elif model_type == 'GAT':\n",
        "            # When applying GAT with num heads > 1, one needs to modify the \n",
        "            # input and output dimension of the conv layers (self.convs),\n",
        "            # to ensure that the input dim of the next layer is num heads\n",
        "            # multiplied by the output dim of the previous layer.\n",
        "            # HINT: In case you want to play with multiheads, you need to change the for-loop when builds up self.convs to be\n",
        "            # self.convs.append(conv_model(hidden_dim * num_heads, hidden_dim)), \n",
        "            # and also the first nn.Linear(hidden_dim * num_heads, hidden_dim) in post-message-passing.\n",
        "            return GAT\n",
        "\n",
        "    def forward(self, data):\n",
        "        x, edge_index, batch = data.x, data.edge_index, data.batch\n",
        "          \n",
        "        for i in range(self.num_layers):\n",
        "            x = self.convs[i](x, edge_index)\n",
        "            x = F.relu(x)\n",
        "            x = F.dropout(x, p=self.dropout)\n",
        "\n",
        "        x = self.post_mp(x)\n",
        "\n",
        "        if self.emb == True:\n",
        "            return x\n",
        "\n",
        "        return F.log_softmax(x, dim=1)\n",
        "\n",
        "    def loss(self, pred, label):\n",
        "        return F.nll_loss(pred, label)"
      ],
      "execution_count": 3,
      "outputs": []
    },
    {
      "cell_type": "markdown",
      "metadata": {
        "id": "syDtxjxoCZgq"
      },
      "source": [
        "## GraphSage Implementation\n",
        "\n",
        "Now let's start working on our own implementation of layers! This part is to get you familiar with how to implement Pytorch layer based on Message Passing. You will be implementing the **forward**, **message** and **aggregate** functions.\n",
        "\n",
        "Generally, the **forward** function is where the actual message passing is conducted. All logic in each iteration happens in **forward**, where we'll call **propagate** function to propagate information from neighbor nodes to central nodes.  So the general paradigm will be pre-processing -> propagate -> post-processing.\n",
        "\n",
        "Recall the process of message passing we introduced in homework 1. **propagate** further calls **message** which transforms information of neighbor nodes into messages, **aggregate** which aggregates all messages from neighbor nodes into one, and **update** which further generates the embedding for nodes in the next iteration.\n",
        "\n",
        "Our implementation is slightly variant from this, where we'll not explicitly implement **update**, but put the logic for updating nodes in **forward** function. To be more specific, after information is propagated, we can further conduct some operations on the output of **propagate**. The output of **forward** is exactly the embeddings after the current iteration.\n",
        "\n",
        "In addition, tensors passed to **propagate()** can be mapped to the respective nodes $i$ and $j$ by appending _i or _j to the variable name, .e.g. x_i and x_j. Note that we generally refer to $i$ as the central nodes that aggregates information, and refer to $j$ as the neighboring nodes, since this is the most common notation.\n",
        "\n",
        "Please find more details in the comments. One thing to note is that we're adding **skip connections** to our GraphSage. Formally, the update rule for our model is described as below:\n",
        "\n",
        "\\begin{equation}\n",
        "h_v^{(l)} = W_l\\cdot h_v^{(l-1)} + W_r \\cdot AGG(\\{h_u^{(l-1)}, \\forall u \\in N(v) \\})\n",
        "\\end{equation}\n",
        "\n",
        "For simplicity, we use mean aggregations where:\n",
        "\n",
        "\\begin{equation}\n",
        "AGG(\\{h_u^{(l-1)}, \\forall u \\in N(v) \\}) = \\frac{1}{|N(v)|} \\sum_{u\\in N(v)} h_u^{(l-1)}\n",
        "\\end{equation}\n",
        "\n",
        "Additionally, $\\ell$-2 normalization is applied after each iteration.\n",
        "\n",
        "In order to complete the work correctly, we have to understand how the different functions interact with each other. In **propagate** we can pass in any parameters we want. For example, we pass in $x$ as an parameter:\n",
        "\n",
        "... = propagate(..., $x$=($x_{central}$, $x_{neighbor}$), ...)\n",
        "\n",
        "Here $x_{central}$ and $x_{neighbor}$ represent the features from **central** nodes and from **neighbor** nodes. If we're using the same representations from central and neighbor, then $x_{central}$ and $x_{neighbor}$ could be identical.\n",
        "\n",
        "Suppose $x_{central}$ and $x_{neighbor}$ are both of shape N * d, where N is number of nodes, and d is dimension of features.\n",
        "\n",
        "Then in message function, we can take parameters called $x\\_i$ and $x\\_j$. Usually $x\\_i$ represents \"central nodes\", and $x\\_j$ represents \"neighbor nodes\". Pay attention to the shape here: $x\\_i$ and $x\\_j$ are both of shape E * d (**not N!**). $x\\_i$ is obtained by concatenating the embeddings of central nodes of all edges through lookups from $x_{central}$ we passed in propagate. Similarly, $x\\_j$ is obtained by concatenating the embeddings of neighbor nodes of all edges through lookups from $x_{neighbor}$ we passed in propagate.\n",
        "\n",
        "Let's look at an example. Suppose we have 4 nodes, so $x_{central}$ and $x_{neighbor}$ are of shape 4 * d. We have two edges (1, 2) and (3, 0). Thus, $x\\_i$ is obtained by $[x_{central}[1]^T; x_{central}[3]^T]^T$, and $x\\_j$ is obtained by $[x_{neighbor}[2]^T; x_{neighbor}[0]^T]^T$\n",
        "\n",
        "<font color='red'>For the following questions, DON'T refer to any existing implementations online.</font>"
      ]
    },
    {
      "cell_type": "code",
      "metadata": {
        "id": "RwG4HqCFCaOD"
      },
      "source": [
        "class GraphSage(MessagePassing):\n",
        "    \n",
        "    def __init__(self, in_channels, out_channels, normalize = True,\n",
        "                 bias = False, **kwargs):  \n",
        "        super(GraphSage, self).__init__(**kwargs)\n",
        "\n",
        "        self.in_channels = in_channels\n",
        "        self.out_channels = out_channels\n",
        "        self.normalize = normalize\n",
        "\n",
        "        self.lin_l = None\n",
        "        self.lin_r = None\n",
        "\n",
        "        ############################################################################\n",
        "        # TODO: Your code here! \n",
        "        # Define the layers needed for the message and update functions below.\n",
        "        # self.lin_l is the linear transformation that you apply to embedding \n",
        "        #            for central node.\n",
        "        # self.lin_r is the linear transformation that you apply to aggregated \n",
        "        #            message from neighbors.\n",
        "        # Our implementation is ~2 lines, but don't worry if you deviate from this.\n",
        "        self.lin_l = nn.Linear(in_channels, out_channels)\n",
        "        self.lin_r = nn.Linear(in_channels, out_channels)\n",
        "\n",
        "        ############################################################################\n",
        "\n",
        "        self.reset_parameters()\n",
        "\n",
        "    def reset_parameters(self):\n",
        "        self.lin_l.reset_parameters()\n",
        "        self.lin_r.reset_parameters()\n",
        "\n",
        "    def forward(self, x, edge_index, size = None):\n",
        "        \"\"\"\"\"\"\n",
        "\n",
        "        out = None\n",
        "\n",
        "        ############################################################################\n",
        "        # TODO: Your code here! \n",
        "        # Implement message passing, as well as any post-processing (our update rule).\n",
        "        # 1. First call propagate function to conduct the message passing.\n",
        "        #    1.1 See there for more information: \n",
        "        #        https://pytorch-geometric.readthedocs.io/en/latest/notes/create_gnn.html\n",
        "        #    1.2 We use the same representations for central (x_central) and \n",
        "        #        neighbor (x_neighbor) nodes, which means you'll pass x=(x, x) \n",
        "        #        to propagate.\n",
        "        # 2. Update our node embedding with skip connection.\n",
        "        # 3. If normalize is set, do L-2 normalization (defined in \n",
        "        #    torch.nn.functional)\n",
        "        # Our implementation is ~5 lines, but don't worry if you deviate from this.\n",
        "        out = self.propagate(edge_index, x=(x,x), size=size)\n",
        "        out = self.lin_l(out)\n",
        "        out += self.lin_r(x)\n",
        "        if self.normalize:\n",
        "          out = F.normalize(out, dim=-1)\n",
        "\n",
        "        ############################################################################\n",
        "\n",
        "        return out\n",
        "\n",
        "    def message(self, x_j):\n",
        "\n",
        "        out = None\n",
        "\n",
        "        ############################################################################\n",
        "        # TODO: Your code here! \n",
        "        # Implement your message function here.\n",
        "        # Our implementation is ~1 lines, but don't worry if you deviate from this.\n",
        "        out = x_j\n",
        "        ############################################################################\n",
        "\n",
        "        return out\n",
        "\n",
        "    def aggregate(self, inputs, index, dim_size = None):\n",
        "\n",
        "        out = None\n",
        "\n",
        "        # The axis along which to index number of nodes.\n",
        "        node_dim = self.node_dim\n",
        "\n",
        "        ############################################################################\n",
        "        # TODO: Your code here! \n",
        "        # Implement your aggregate function here.\n",
        "        # See here as how to use torch_scatter.scatter: \n",
        "        # https://pytorch-scatter.readthedocs.io/en/latest/functions/scatter.html#torch_scatter.scatter\n",
        "        # Our implementation is ~1 lines, but don't worry if you deviate from this.\n",
        "        return torch_scatter.scatter(inputs, index, dim=self.node_dim, dim_size=dim_size, reduce='mean')\n",
        "\n",
        "\n",
        "        ############################################################################\n",
        "\n",
        "        return out\n"
      ],
      "execution_count": 4,
      "outputs": []
    },
    {
      "cell_type": "markdown",
      "metadata": {
        "id": "qjcfF3RACdLD"
      },
      "source": [
        "## GAT Implementation\n",
        "\n",
        "Attention mechanisms have become the state-of-the-art in many sequence-based tasks such as machine translation and learning sentence representations. One of the major benefits of attention-based mechanisms is their ability to focus on the most relevant parts of the input to make decisions. In this problem, we will see how attention mechanisms can be used to perform node classification of graph-structured data through the usage of Graph Attention Networks (GATs).\n",
        "\n",
        "The building block of the Graph Attention Network is the graph attention layer, which is a variant of the aggregation function . Let $N$ be the number of nodes and $F$ be the dimension of the feature vector for each node. The input to each graph attentional layer is a set of node features: $\\mathbf{h} = \\{\\overrightarrow{h_1}, \\overrightarrow{h_2}, \\dots, \\overrightarrow{h_N}$\\}, $\\overrightarrow{h_i} \\in R^F$. The output of each graph attentional layer is a new set of node features, which may have a new dimension $F'$: $\\mathbf{h'} = \\{\\overrightarrow{h_1'}, \\overrightarrow{h_2'}, \\dots, \\overrightarrow{h_N'}\\}$, with $\\overrightarrow{h_i'} \\in \\mathbb{R}^{F'}$.\n",
        "\n",
        "We will now describe this transformation of the input features into higher-level features performed by each graph attention layer. First, a shared linear transformation parametrized by the weight matrix $\\mathbf{W} \\in \\mathbb{R}^{F' \\times F}$ is applied to every node. Next, we perform self-attention on the nodes. We use a shared attentional mechanism:\n",
        "\\begin{equation} \n",
        "a : \\mathbb{R}^{F'} \\times \\mathbb{R}^{F'} \\rightarrow \\mathbb{R}.\n",
        "\\end{equation}\n",
        "\n",
        "This mechanism computes the attention coefficients that capture the importance of node $j$'s features to node $i$:\n",
        "\\begin{equation}\n",
        "e_{ij} = a(\\mathbf{W_l}\\overrightarrow{h_i}, \\mathbf{W_r} \\overrightarrow{h_j})\n",
        "\\end{equation}\n",
        "The most general formulation of self-attention allows every node to attend to all other nodes which drops all structural information. To utilize graph structure in the attention mechanisms, we can use masked attention. In masked attention, we only compute $e_{ij}$ for nodes $j \\in \\mathcal{N}_i$ where $\\mathcal{N}_i$ is some neighborhood of node $i$ in the graph.\n",
        "\n",
        "To easily compare coefficients across different nodes, we normalize the coefficients across $j$ using a softmax function:\n",
        "\\begin{equation}\n",
        "\\alpha_{ij} = \\text{softmax}_j(e_{ij}) = \\frac{\\exp(e_{ij})}{\\sum_{k \\in \\mathcal{N}_i} \\exp(e_{ik})}\n",
        "\\end{equation}\n",
        "\n",
        "For this problem, our attention mechanism $a$ will be a single-layer feedforward neural network parametrized by a weight vector $\\overrightarrow{a} \\in \\mathbb{R}^{F'}$, followed by a LeakyReLU nonlinearity (with negative input slope 0.2). Let $\\cdot^T$ represent transposition and $||$ represent concatenation. The coefficients computed by our attention mechanism may be expressed as:\n",
        "\n",
        "\\begin{equation}\n",
        "\\alpha_{ij} = \\frac{\\exp\\Big(\\text{LeakyReLU}\\Big(\\overrightarrow{a_l}^T \\mathbf{W_l} \\overrightarrow{h_i} + \\overrightarrow{a_r}^T\\mathbf{W_r}\\overrightarrow{h_j}\\Big)\\Big)}{\\sum_{k\\in \\mathcal{N}_i} \\exp\\Big(\\text{LeakyReLU}\\Big(\\overrightarrow{a_l}^T \\mathbf{W_l} \\overrightarrow{h_i} + \\overrightarrow{a_r}^T\\mathbf{W_r}\\overrightarrow{h_k}\\Big)\\Big)}\n",
        "\\end{equation}\n",
        "\n",
        "For the following questions, we denote $\\alpha_l = [...,\\overrightarrow{a_l}^T \\mathbf{W_l} \\overrightarrow{h_i},...]$ and $\\alpha_r = [..., \\overrightarrow{a_r}^T \\mathbf{W_r} \\overrightarrow{h_j}, ...]$.\n",
        "\n",
        "\n",
        "At every layer of GAT, after the attention coefficients are computed for that layer, the aggregation function can be computed by a weighted sum of neighborhood messages, where weights are specified by $\\alpha_{ij}$.\n",
        "\n",
        "Now, we use the normalized attention coefficients to compute a linear combination of the features corresponding to them. These aggregated features will serve as the final output features for every node.\n",
        "\n",
        "\\begin{equation}\n",
        "h_i' = \\sum_{j \\in \\mathcal{N}_i} \\alpha_{ij} \\mathbf{W_r} \\overrightarrow{h_j}.\n",
        "\\end{equation}\n",
        "\n",
        "To stabilize the learning process of self-attention, we use multi-head attention. To do this we use $K$ independent attention mechanisms, or ``heads'' compute output features as in the above equations. Then, we concatenate these output feature representations:\n",
        "\n",
        "\\begin{equation}\n",
        "    \\overrightarrow{h_i}' = ||_{k=1}^K \\Big(\\sum_{j \\in \\mathcal{N}_i} \\alpha_{ij}^{(k)} \\mathbf{W_r}^{(k)} \\overrightarrow{h_j}\\Big)\n",
        "\\end{equation}\n",
        "\n",
        "where $||$ is concentation, $\\alpha_{ij}^{(k)}$ are the normalized attention coefficients computed by the $k$-th attention mechanism $(a^k)$, and $\\mathbf{W}^{(k)}$ is the corresponding input linear transformation's weight matrix. Note that for this setting, $\\mathbf{h'} \\in \\mathbb{R}^{KF'}$."
      ]
    },
    {
      "cell_type": "code",
      "metadata": {
        "id": "w4j45gTpCeXO"
      },
      "source": [
        "class GAT(MessagePassing):\n",
        "\n",
        "    def __init__(self, in_channels, out_channels, heads = 2,\n",
        "                 negative_slope = 0.2, dropout = 0., **kwargs):\n",
        "        super(GAT, self).__init__(node_dim=0, **kwargs)\n",
        "\n",
        "        self.in_channels = in_channels\n",
        "        self.out_channels = out_channels\n",
        "        self.heads = heads\n",
        "        self.negative_slope = negative_slope\n",
        "        self.dropout = dropout\n",
        "\n",
        "        self.lin_l = None\n",
        "        self.lin_r = None\n",
        "        self.att_l = None\n",
        "        self.att_r = None\n",
        "\n",
        "        ############################################################################\n",
        "        # TODO: Your code here! \n",
        "        # Define the layers needed for the message functions below.\n",
        "        # self.lin_l is the linear transformation that you apply to embeddings \n",
        "        # BEFORE message passing.\n",
        "        # Pay attention to dimensions of the linear layers, since we're using \n",
        "        # multi-head attention.\n",
        "        # Our implementation is ~1 lines, but don't worry if you deviate from this.\n",
        "        self.lin_l = nn.Linear(in_channels, heads*out_channels, bias=False)\n",
        "\n",
        "        ############################################################################\n",
        "\n",
        "        self.lin_r = self.lin_l\n",
        "\n",
        "        ############################################################################\n",
        "        # TODO: Your code here! \n",
        "        # Define the attention parameters \\overrightarrow{a_l/r}^T in the above intro.\n",
        "        # You have to deal with multi-head scenarios.\n",
        "        # Use nn.Parameter instead of nn.Linear\n",
        "        # Our implementation is ~2 lines, but don't worry if you deviate from this.\n",
        "        self.att_l = Parameter(torch.Tensor(1, heads, out_channels))\n",
        "        self.att_r = Parameter(torch.Tensor(1, heads, out_channels))\n",
        "\n",
        "        ############################################################################\n",
        "\n",
        "        self.reset_parameters()\n",
        "\n",
        "    def reset_parameters(self):\n",
        "        nn.init.xavier_uniform_(self.lin_l.weight)\n",
        "        nn.init.xavier_uniform_(self.lin_r.weight)\n",
        "        nn.init.xavier_uniform_(self.att_l)\n",
        "        nn.init.xavier_uniform_(self.att_r)\n",
        "\n",
        "    def forward(self, x, edge_index, size = None):\n",
        "        \n",
        "        H, C = self.heads, self.out_channels\n",
        "\n",
        "        ############################################################################\n",
        "        # TODO: Your code here! \n",
        "        # Implement message passing, as well as any pre- and post-processing (our update rule).\n",
        "        # 1. First apply linear transformation to node embeddings, and split that \n",
        "        #    into multiple heads. We use the same representations for source and\n",
        "        #    target nodes, but apply different linear weights (W_l and W_r)\n",
        "        # 2. Calculate alpha vectors for central nodes (alpha_l) and neighbor nodes (alpha_r).\n",
        "        # 3. Call propagate function to conduct the message passing. \n",
        "        #    3.1 Remember to pass alpha = (alpha_l, alpha_r) as a parameter.\n",
        "        #    3.2 See there for more information: https://pytorch-geometric.readthedocs.io/en/latest/notes/create_gnn.html\n",
        "        # 4. Transform the output back to the shape of N * d.\n",
        "        # Our implementation is ~5 lines, but don't worry if you deviate from this.\n",
        "\n",
        "        # [N, feat_dim] --> [N, heads*out_channel]\n",
        "        x_l, x_r = self.lin_l(x), self.lin_l(x)\n",
        "        x_l, x_r = x_l.view(-1, H, C), x_r.view(-1, H, C)\n",
        "        alpha_l = (x_l * self.att_l).sum(dim=-1)\n",
        "        alpha_r = (x_r * self.att_r).sum(dim=-1)\n",
        "        out = self.propagate(edge_index, x=(x_l, x_r),\n",
        "                             alpha=(alpha_l, alpha_r),\n",
        "                             size=size)\n",
        "        out = out.view(-1, H*C)\n",
        "        ############################################################################\n",
        "\n",
        "        return out\n",
        "\n",
        "\n",
        "    def message(self, x_j, alpha_j, alpha_i, index, ptr, size_i):\n",
        "\n",
        "        ############################################################################\n",
        "        # TODO: Your code here! \n",
        "        # Implement your message function. Putting the attention in message \n",
        "        # instead of in update is a little tricky.\n",
        "        # 1. Calculate the final attention weights using alpha_i and alpha_j,\n",
        "        #    and apply leaky Relu.\n",
        "        # 2. Calculate softmax over the neighbor nodes for all the nodes. Use \n",
        "        #    torch_geometric.utils.softmax instead of the one in Pytorch.\n",
        "        # 3. Apply dropout to attention weights (alpha).\n",
        "        # 4. Multiply embeddings and attention weights. As a sanity check, the output\n",
        "        #    should be of shape E * H * d.\n",
        "        # 5. ptr (LongTensor, optional): If given, computes the softmax based on\n",
        "        #    sorted inputs in CSR representation. You can simply pass it to softmax.\n",
        "        # Our implementation is ~5 lines, but don't worry if you deviate from this.\n",
        "\n",
        "        # message from node j to node i\n",
        "        # x_j: [E, H, C]\n",
        "        # alpha_j, alpha_i: [E, H]\n",
        "        alpha = F.leaky_relu(alpha_j+alpha_i, self.negative_slope)\n",
        "        alpha = torch_geometric.utils.softmax(alpha, index, ptr, size_i)\n",
        "        alpha = F.dropout(alpha, p=self.dropout, training=self.training)\n",
        "        # [E, H, C]\n",
        "        out = x_j * alpha.unsqueeze(-1)\n",
        "        ############################################################################\n",
        "\n",
        "        return out\n",
        "\n",
        "\n",
        "    def aggregate(self, inputs, index, dim_size = None):\n",
        "\n",
        "        ############################################################################\n",
        "        # TODO: Your code here! \n",
        "        # Implement your aggregate function here.\n",
        "        # See here as how to use torch_scatter.scatter: https://pytorch-scatter.readthedocs.io/en/latest/_modules/torch_scatter/scatter.html\n",
        "        # Pay attention to \"reduce\" parameter is different from that in GraphSage.\n",
        "        # Our implementation is ~1 lines, but don't worry if you deviate from this.\n",
        "        out = torch_scatter.scatter(inputs, index, dim=self.node_dim, dim_size=dim_size, reduce='sum')\n",
        "        ############################################################################\n",
        "    \n",
        "        return out"
      ],
      "execution_count": 5,
      "outputs": []
    },
    {
      "cell_type": "markdown",
      "metadata": {
        "id": "V2dkgSuWCheU"
      },
      "source": [
        "## Building Optimizers\n",
        "\n",
        "This function has been implemented for you. **For grading purposes please use the default Adam optimizer**, but feel free to play with other types of optimizers on your own."
      ]
    },
    {
      "cell_type": "code",
      "metadata": {
        "id": "f_TIQ8NPCjBP"
      },
      "source": [
        "import torch.optim as optim\n",
        "\n",
        "def build_optimizer(args, params):\n",
        "    weight_decay = args.weight_decay\n",
        "    filter_fn = filter(lambda p : p.requires_grad, params)\n",
        "    if args.opt == 'adam':\n",
        "        optimizer = optim.Adam(filter_fn, lr=args.lr, weight_decay=weight_decay)\n",
        "    elif args.opt == 'sgd':\n",
        "        optimizer = optim.SGD(filter_fn, lr=args.lr, momentum=0.95, weight_decay=weight_decay)\n",
        "    elif args.opt == 'rmsprop':\n",
        "        optimizer = optim.RMSprop(filter_fn, lr=args.lr, weight_decay=weight_decay)\n",
        "    elif args.opt == 'adagrad':\n",
        "        optimizer = optim.Adagrad(filter_fn, lr=args.lr, weight_decay=weight_decay)\n",
        "    if args.opt_scheduler == 'none':\n",
        "        return None, optimizer\n",
        "    elif args.opt_scheduler == 'step':\n",
        "        scheduler = optim.lr_scheduler.StepLR(optimizer, step_size=args.opt_decay_step, gamma=args.opt_decay_rate)\n",
        "    elif args.opt_scheduler == 'cos':\n",
        "        scheduler = optim.lr_scheduler.CosineAnnealingLR(optimizer, T_max=args.opt_restart)\n",
        "    return scheduler, optimizer"
      ],
      "execution_count": 6,
      "outputs": []
    },
    {
      "cell_type": "markdown",
      "metadata": {
        "id": "hBYdWFwYCkwY"
      },
      "source": [
        "## Training and Testing\n",
        "\n",
        "Here we provide you with the functions to train and test. **Please do not modify this part for grading purposes.**"
      ]
    },
    {
      "cell_type": "code",
      "metadata": {
        "id": "_tZMWRc8CmGg"
      },
      "source": [
        "import time\n",
        "\n",
        "import networkx as nx\n",
        "import numpy as np\n",
        "import torch\n",
        "import torch.optim as optim\n",
        "\n",
        "from torch_geometric.datasets import TUDataset\n",
        "from torch_geometric.datasets import Planetoid\n",
        "from torch_geometric.data import DataLoader\n",
        "\n",
        "import torch_geometric.nn as pyg_nn\n",
        "\n",
        "import matplotlib.pyplot as plt\n",
        "\n",
        "\n",
        "def train(dataset, args):\n",
        "    \n",
        "    print(\"Node task. test set size:\", np.sum(dataset[0]['train_mask'].numpy()))\n",
        "    test_loader = loader = DataLoader(dataset, batch_size=args.batch_size, shuffle=True)\n",
        "\n",
        "    # build model\n",
        "    model = GNNStack(dataset.num_node_features, args.hidden_dim, dataset.num_classes, \n",
        "                            args)\n",
        "    scheduler, opt = build_optimizer(args, model.parameters())\n",
        "\n",
        "    # train\n",
        "    losses = []\n",
        "    test_accs = []\n",
        "    for epoch in range(args.epochs):\n",
        "        total_loss = 0\n",
        "        model.train()\n",
        "        for batch in loader:\n",
        "            opt.zero_grad()\n",
        "            pred = model(batch)\n",
        "            label = batch.y\n",
        "            pred = pred[batch.train_mask]\n",
        "            label = label[batch.train_mask]\n",
        "            loss = model.loss(pred, label)\n",
        "            loss.backward()\n",
        "            opt.step()\n",
        "            total_loss += loss.item() * batch.num_graphs\n",
        "        total_loss /= len(loader.dataset)\n",
        "        losses.append(total_loss)\n",
        "\n",
        "        if epoch % 10 == 0:\n",
        "          test_acc = test(test_loader, model)\n",
        "          test_accs.append(test_acc)\n",
        "        else:\n",
        "          test_accs.append(test_accs[-1])\n",
        "    return test_accs, losses\n",
        "\n",
        "def test(loader, model, is_validation=True):\n",
        "    model.eval()\n",
        "\n",
        "    correct = 0\n",
        "    for data in loader:\n",
        "        with torch.no_grad():\n",
        "            # max(dim=1) returns values, indices tuple; only need indices\n",
        "            pred = model(data).max(dim=1)[1]\n",
        "            label = data.y\n",
        "\n",
        "        mask = data.val_mask if is_validation else data.test_mask\n",
        "        # node classification: only evaluate on nodes in test set\n",
        "        pred = pred[mask]\n",
        "        label = data.y[mask]\n",
        "            \n",
        "        correct += pred.eq(label).sum().item()\n",
        "\n",
        "    total = 0\n",
        "    for data in loader.dataset:\n",
        "        total += torch.sum(data.val_mask if is_validation else data.test_mask).item()\n",
        "    return correct / total\n",
        "  \n",
        "class objectview(object):\n",
        "    def __init__(self, d):\n",
        "        self.__dict__ = d\n"
      ],
      "execution_count": 7,
      "outputs": []
    },
    {
      "cell_type": "markdown",
      "metadata": {
        "id": "L7-h7jIsCns4"
      },
      "source": [
        "## Let's Start the Training!\n",
        "\n",
        "We will be working on the CORA dataset on node-level classification.\n",
        "\n",
        "This part is implemented for you. **For grading purposes, please do not modify the default parameters.** However, feel free to play with different configurations just for fun!\n",
        "\n",
        "**Submit your best accuracy and loss on Gradescope.**"
      ]
    },
    {
      "cell_type": "code",
      "metadata": {
        "id": "qe9B45l9Cpz2",
        "colab": {
          "base_uri": "https://localhost:8080/",
          "height": 559
        },
        "outputId": "8a2d6d70-d092-4220-eff1-3a0ffdb7cfc4"
      },
      "source": [
        "def main():\n",
        "    for args in [\n",
        "        {'model_type': 'GraphSage', 'dataset': 'cora', 'num_layers': 2, 'heads': 1, 'batch_size': 32, 'hidden_dim': 32, 'dropout': 0.5, 'epochs': 500, 'opt': 'adam', 'opt_scheduler': 'none', 'opt_restart': 0, 'weight_decay': 5e-3, 'lr': 0.01},\n",
        "    ]:\n",
        "        args = objectview(args)\n",
        "        for model in ['GraphSage', 'GAT']:\n",
        "            args.model_type = model\n",
        "\n",
        "            # Match the dimension.\n",
        "            if model == 'GAT':\n",
        "              args.heads = 2\n",
        "            else:\n",
        "              args.heads = 1\n",
        "\n",
        "            if args.dataset == 'cora':\n",
        "                dataset = Planetoid(root='/tmp/cora', name='Cora')\n",
        "            else:\n",
        "                raise NotImplementedError(\"Unknown dataset\") \n",
        "            test_accs, losses = train(dataset, args) \n",
        "\n",
        "            print(\"Maximum accuracy: {0}\".format(max(test_accs)))\n",
        "            print(\"Minimum loss: {0}\".format(min(losses)))\n",
        "\n",
        "            plt.title(dataset.name)\n",
        "            plt.plot(losses, label=\"training loss\" + \" - \" + args.model_type)\n",
        "            plt.plot(test_accs, label=\"test accuracy\" + \" - \" + args.model_type)\n",
        "        plt.legend()\n",
        "        plt.show()\n",
        "\n",
        "if __name__ == '__main__':\n",
        "    main()"
      ],
      "execution_count": 8,
      "outputs": [
        {
          "output_type": "stream",
          "text": [
            "Downloading https://github.com/kimiyoung/planetoid/raw/master/data/ind.cora.x\n",
            "Downloading https://github.com/kimiyoung/planetoid/raw/master/data/ind.cora.tx\n",
            "Downloading https://github.com/kimiyoung/planetoid/raw/master/data/ind.cora.allx\n",
            "Downloading https://github.com/kimiyoung/planetoid/raw/master/data/ind.cora.y\n",
            "Downloading https://github.com/kimiyoung/planetoid/raw/master/data/ind.cora.ty\n",
            "Downloading https://github.com/kimiyoung/planetoid/raw/master/data/ind.cora.ally\n",
            "Downloading https://github.com/kimiyoung/planetoid/raw/master/data/ind.cora.graph\n",
            "Downloading https://github.com/kimiyoung/planetoid/raw/master/data/ind.cora.test.index\n",
            "Processing...\n",
            "Done!\n",
            "Node task. test set size: 140\n",
            "Maximum accuracy: 0.732\n",
            "Minimum loss: 0.11253821849822998\n",
            "Node task. test set size: 140\n",
            "Maximum accuracy: 0.742\n",
            "Minimum loss: 0.023202920332551003\n"
          ],
          "name": "stdout"
        },
        {
          "output_type": "display_data",
          "data": {
            "image/png": "[encoded data removed]",
            "text/plain": [
              "<Figure size 432x288 with 1 Axes>"
            ]
          },
          "metadata": {
            "tags": [],
            "needs_background": "light"
          }
        }
      ]
    },
    {
      "cell_type": "markdown",
      "metadata": {
        "id": "gHELqjARZ1W5"
      },
      "source": [
        "## Question 1.1: What is the maximum accuracy you could get on test set for GraphSage? (10 points)\n",
        "\n",
        "Submit your answers on Gradescope."
      ]
    },
    {
      "cell_type": "markdown",
      "metadata": {
        "id": "PlCtBEBLMBkR"
      },
      "source": [
        "## Question 1.2: What is the maximum accuracy you could get on test set for GAT? (10 points)\n",
        "\n",
        "Submit your answers on Gradescope."
      ]
    },
    {
      "cell_type": "markdown",
      "metadata": {
        "id": "Nwwq0nSdmsOL"
      },
      "source": [
        "# 2 DeepSNAP Basics\n",
        "\n",
        "In previous Colabs we used both of graph class (NetworkX) and tensor (PyG) representations of graphs separately. The graph class `nx.Graph` provides rich analysis and manipulation functionalities, such as the clustering coefficient and PageRank. To feed the graph into the model, we need to transform the graph into tensor representations including edge tensor `edge_index` and node attributes tensors `x` and `y`. But only using tensors (as the graphs formatted in PyG `datasets` and `data`) will make many graph manipulations and analysis less efficient and harder. So, in this Colab we will use DeepSNAP which combines both representations and offers a full pipeline for GNN training / validation / testing.\n"
      ]
    },
    {
      "cell_type": "markdown",
      "metadata": {
        "id": "Sf7vUmdNKCjA"
      },
      "source": [
        "In general, [DeepSNAP](https://github.com/snap-stanford/deepsnap) is a Python library to assist efficient deep learning on graphs. DeepSNAP features in its support for flexible graph manipulation, standard pipeline, heterogeneous graphs and simple API.\n",
        "\n",
        "1. DeepSNAP is easy to be used for the sophisticated graph manipulations, such as feature computation, pretraining, subgraph extraction etc. during/before the training.\n",
        "2. In most frameworks, standard pipelines for node, edge, link, graph-level tasks under inductive or transductive settings are left to the user to code. In practice, there are additional design choices involved (such as how to split dataset for link prediction). DeepSNAP provides such a standard pipeline that greatly saves repetitive coding efforts, and enables fair comparision for models.\n",
        "3. Many real-world graphs are heterogeneous graphs. But packages support for heterogeneous graphs, including data storage and flexible message passing, is lacking. DeepSNAP provides an efficient and flexible heterogeneous graph that supports both the node and edge heterogeneity.\n",
        "\n",
        "[DeepSNAP](https://github.com/snap-stanford/deepsnap) is a newly released project and it is still under development. If you find any bugs or have any improvement ideas, feel free to raise issues or create pull requests on the GitHub directly :)\n",
        "\n",
        "In this Colab, we will focus on DeepSNAP graph manipulations and splitting settings."
      ]
    },
    {
      "cell_type": "markdown",
      "metadata": {
        "id": "20SvvngpQmmQ"
      },
      "source": [
        "## Setup"
      ]
    },
    {
      "cell_type": "code",
      "metadata": {
        "id": "zfbBVFmAQlwz"
      },
      "source": [
        "import torch\n",
        "import networkx as nx\n",
        "import matplotlib.pyplot as plt\n",
        "\n",
        "from deepsnap.graph import Graph\n",
        "from deepsnap.batch import Batch\n",
        "from deepsnap.dataset import GraphDataset\n",
        "from torch_geometric.datasets import Planetoid, TUDataset\n",
        "\n",
        "from torch.utils.data import DataLoader\n",
        "\n",
        "def visualize(G, color_map=None, seed=123):\n",
        "  if color_map is None:\n",
        "    color_map = '#c92506'\n",
        "  plt.figure(figsize=(8, 8))\n",
        "  nodes = nx.draw_networkx_nodes(G, pos=nx.spring_layout(G, seed=seed), \\\n",
        "                                 label=None, node_color=color_map, node_shape='o', node_size=150)\n",
        "  edges = nx.draw_networkx_edges(G, pos=nx.spring_layout(G, seed=seed), alpha=0.5)\n",
        "  if color_map is not None:\n",
        "    plt.scatter([],[], c='#c92506', label='Nodes with label 0', edgecolors=\"black\", s=140)\n",
        "    plt.scatter([],[], c='#fcec00', label='Nodes with label 1', edgecolors=\"black\", s=140)\n",
        "    plt.legend(prop={'size': 13}, handletextpad=0)\n",
        "  nodes.set_edgecolor('black')\n",
        "  plt.show()"
      ],
      "execution_count": 9,
      "outputs": []
    },
    {
      "cell_type": "markdown",
      "metadata": {
        "id": "ic-o1P3r6hr2"
      },
      "source": [
        "## DeepSNAP Graph\n",
        "\n",
        "The `deepsnap.graph.Graph` class is the core class of DeepSNAP. It not only represents a graph in tensor format but also references to a graph object from graph manipulation package.\n",
        "\n",
        "Currently DeepSNAP supports [NetworkX](https://networkx.org/) and [Snap.py](https://snap.stanford.edu/snappy/doc/index.html) as the back end graph manipulation package.\n",
        "\n",
        "In this Colab, we will use the NetworkX as the back end graph manipulation package."
      ]
    },
    {
      "cell_type": "markdown",
      "metadata": {
        "id": "Ispq_lIoJl_z"
      },
      "source": [
        "Lets first try to convert a simple random NetworkX graph to a DeepSNAP graph."
      ]
    },
    {
      "cell_type": "code",
      "metadata": {
        "id": "zT5qca3x6XpG",
        "outputId": "cd4f727d-4b37-43fe-85b8-2618b568d5d5",
        "colab": {
          "base_uri": "https://localhost:8080/",
          "height": 570
        }
      },
      "source": [
        "num_nodes = 100\n",
        "p = 0.05\n",
        "seed = 100\n",
        "\n",
        "# Generate a networkx random graph\n",
        "G = nx.gnp_random_graph(num_nodes, p, seed=seed)\n",
        "\n",
        "# Generate some random node features and labels\n",
        "node_feature = {node : torch.rand([5, ]) for node in G.nodes()}\n",
        "node_label = {node : torch.randint(0, 2, ()) for node in G.nodes()}\n",
        "\n",
        "# Set the random features and labels to G\n",
        "nx.set_node_attributes(G, node_feature, name='node_feature')\n",
        "nx.set_node_attributes(G, node_label, name='node_label')\n",
        "\n",
        "# Print one node example\n",
        "for node in G.nodes(data=True):\n",
        "  print(node)\n",
        "  break\n",
        "\n",
        "color_map = ['#c92506' if node[1]['node_label'].item() == 0 else '#fcec00' for node in G.nodes(data=True)]\n",
        "\n",
        "# Visualize the graph\n",
        "visualize(G, color_map=color_map)\n",
        "\n",
        "# Transform the networkx graph into the deepsnap graph\n",
        "graph = Graph(G)\n",
        "\n",
        "# Print out the general deepsnap graph information\n",
        "print(graph)\n",
        "\n",
        "# DeepSNAP will convert node attributes to tensors\n",
        "# Notice the type of tensors\n",
        "print(\"Node feature (node_feature) has shape {} and type {}\".format(graph.node_feature.shape, graph.node_feature.dtype))\n",
        "print(\"Node label (node_label) has shape {} and type {}\".format(graph.node_label.shape, graph.node_label.dtype))\n",
        "\n",
        "# DeepSNAP will also generate the edge_index tensor\n",
        "print(\"Edge index (edge_index) has shape {} and type {}\".format(graph.edge_index.shape, graph.edge_index.dtype))\n",
        "\n",
        "# Different from only storing tensors, deepsnap graph also references to the networkx graph\n",
        "# We will discuss why the reference will be helpful later\n",
        "print(\"The DeepSNAP graph has {} as the internal manupulation graph\".format(type(graph.G)))"
      ],
      "execution_count": 10,
      "outputs": [
        {
          "output_type": "stream",
          "text": [
            "(0, {'node_feature': tensor([0.2844, 0.5068, 0.6405, 0.8015, 0.6868]), 'node_label': tensor(1)})\n"
          ],
          "name": "stdout"
        },
        {
          "output_type": "display_data",
          "data": {
            "image/png": "[encoded data removed]",
            "text/plain": [
              "<Figure size 576x576 with 1 Axes>"
            ]
          },
          "metadata": {
            "tags": []
          }
        },
        {
          "output_type": "stream",
          "text": [
            "Graph(G=[], edge_index=[2, 524], edge_label_index=[2, 524], node_feature=[100, 5], node_label=[100], node_label_index=[100])\n",
            "Node feature (node_feature) has shape torch.Size([100, 5]) and type torch.float32\n",
            "Node label (node_label) has shape torch.Size([100]) and type torch.int64\n",
            "Edge index (edge_index) has shape torch.Size([2, 524]) and type torch.int64\n",
            "The DeepSNAP graph has <class 'networkx.classes.graph.Graph'> as the internal manupulation graph\n"
          ],
          "name": "stdout"
        }
      ]
    },
    {
      "cell_type": "markdown",
      "metadata": {
        "id": "PNMbc307KOQD"
      },
      "source": [
        "In DeepSNAP we have three levels of attributes. In this example, we have the **node level** attributes including `node_feature` and `node_label`. The other two levels of attributes are graph and edge attributes. The usage is similar to the node level one except that the feature becomes `edge_feature` or `graph_feature` and label becomes `edge_label` or `graph_label` etc."
      ]
    },
    {
      "cell_type": "markdown",
      "metadata": {
        "id": "G8Xz58_Da0qL"
      },
      "source": [
        "Similar to the NetworkX graph, we can easily get some basic information of the graph through class properties directly."
      ]
    },
    {
      "cell_type": "code",
      "metadata": {
        "id": "dLo4zWAoeg6S",
        "outputId": "1ffe3452-3a5d-4050-9985-b428f648b0d4",
        "colab": {
          "base_uri": "https://localhost:8080/"
        }
      },
      "source": [
        "# Number of nodes\n",
        "print(\"The random graph has {} nodes\".format(graph.num_nodes))\n",
        "\n",
        "# Number of edges\n",
        "print(\"The random graph has {} edges\".format(graph.num_edges))"
      ],
      "execution_count": 11,
      "outputs": [
        {
          "output_type": "stream",
          "text": [
            "The random graph has 100 nodes\n",
            "The random graph has 262 edges\n"
          ],
          "name": "stdout"
        }
      ]
    },
    {
      "cell_type": "markdown",
      "metadata": {
        "id": "Po7IaRmwblI5"
      },
      "source": [
        "DeepSNAP also provides functions that can automatically transform the PyG datasets into a list of DeepSNAP graphs.\n",
        "\n",
        "Here we transform the CORA dataset into a list of DeepSNAP graphs."
      ]
    },
    {
      "cell_type": "code",
      "metadata": {
        "id": "ZFkg2kCgcFwR",
        "outputId": "7d98f81c-7908-4add-d4c7-d40dad4ca520",
        "colab": {
          "base_uri": "https://localhost:8080/"
        }
      },
      "source": [
        "root = './tmp/cora'\n",
        "name = 'Cora'\n",
        "\n",
        "# The Cora dataset\n",
        "pyg_dataset= Planetoid(root, name)\n",
        "\n",
        "# PyG dataset to a list of deepsnap graphs\n",
        "graphs = GraphDataset.pyg_to_graphs(pyg_dataset)\n",
        "\n",
        "# Get the first deepsnap graph (CORA only has one graph)\n",
        "graph = graphs[0]\n",
        "print(graph)"
      ],
      "execution_count": 12,
      "outputs": [
        {
          "output_type": "stream",
          "text": [
            "Downloading https://github.com/kimiyoung/planetoid/raw/master/data/ind.cora.x\n",
            "Downloading https://github.com/kimiyoung/planetoid/raw/master/data/ind.cora.tx\n",
            "Downloading https://github.com/kimiyoung/planetoid/raw/master/data/ind.cora.allx\n",
            "Downloading https://github.com/kimiyoung/planetoid/raw/master/data/ind.cora.y\n",
            "Downloading https://github.com/kimiyoung/planetoid/raw/master/data/ind.cora.ty\n",
            "Downloading https://github.com/kimiyoung/planetoid/raw/master/data/ind.cora.ally\n",
            "Downloading https://github.com/kimiyoung/planetoid/raw/master/data/ind.cora.graph\n",
            "Downloading https://github.com/kimiyoung/planetoid/raw/master/data/ind.cora.test.index\n",
            "Processing...\n",
            "Done!\n",
            "Graph(G=[], edge_index=[2, 10556], edge_label_index=[2, 10556], node_feature=[2708, 1433], node_label=[2708], node_label_index=[2708])\n"
          ],
          "name": "stdout"
        }
      ]
    },
    {
      "cell_type": "markdown",
      "metadata": {
        "id": "NLm5vVYMAP2x"
      },
      "source": [
        "## Question 2.1: What is the number of classes and number of features in the CORA graph? (5 points)\n",
        "\n",
        "Submit your answers on Gradescope."
      ]
    },
    {
      "cell_type": "code",
      "metadata": {
        "id": "8iF_Kyqr_JbY",
        "outputId": "ea87de6d-92d7-4b9b-9b65-8c0798634017",
        "colab": {
          "base_uri": "https://localhost:8080/"
        }
      },
      "source": [
        "def get_num_node_classes(graph):\n",
        "  # TODO: Implement this function that takes a deepsnap graph object\n",
        "  # and return the number of node classes of that graph.\n",
        "\n",
        "  num_node_classes = 0\n",
        "\n",
        "  ############# Your code here #############\n",
        "  ## (~1 line of code)\n",
        "  ## Note\n",
        "  ## 1. Colab autocomplete functionality might be useful\n",
        "  ## 2. DeepSNAP documentation might be useful https://snap.stanford.edu/deepsnap/modules/graph.html\n",
        "  #print(graph.node_label.min(), graph.node_label.max())\n",
        "  num_node_classes = graph.node_label.max()+1\n",
        "\n",
        "\n",
        "  ##########################################\n",
        "\n",
        "  return num_node_classes\n",
        "\n",
        "def get_num_node_features(graph):\n",
        "  # TODO: Implement this function that takes a deepsnap graph object\n",
        "  # and return the number of node features of that graph.\n",
        "\n",
        "  num_node_features = 0\n",
        "\n",
        "  ############# Your code here #############\n",
        "  ## (~1 line of code)\n",
        "  ## Note\n",
        "  ## 1. Colab autocomplete functionality might be useful\n",
        "  ## 2. DeepSNAP documentation might be useful https://snap.stanford.edu/deepsnap/modules/graph.html\n",
        "  num_node_features = graph.num_node_features\n",
        "\n",
        "\n",
        "  ##########################################\n",
        "\n",
        "  return num_node_features\n",
        "\n",
        "num_node_classes = get_num_node_classes(graph)\n",
        "num_node_features = get_num_node_features(graph)\n",
        "print(\"{} has {} classes\".format(name, num_node_classes))\n",
        "print(\"{} has {} features\".format(name, num_node_features))"
      ],
      "execution_count": 13,
      "outputs": [
        {
          "output_type": "stream",
          "text": [
            "Cora has 7 classes\n",
            "Cora has 1433 features\n"
          ],
          "name": "stdout"
        }
      ]
    },
    {
      "cell_type": "markdown",
      "metadata": {
        "id": "rwKbzhHUAckZ"
      },
      "source": [
        "## DeepSNAP Dataset\n",
        "\n",
        "Now, lets talk about DeepSNAP dataset. A `deepsnap.dataset.GraphDataset` contains a list of `deepsnap.graph.Graph` objects. In addition to list of graphs, you can also specify what task the dataset will be used on, such as node level task (`task=node`), edge level task (`task=link_pred`) and graph level task (`task=graph`).\n",
        "\n",
        "It also contains many other useful parameters during initialization and other functinoalities. If you are interested, you can take a look at the [documentation](https://snap.stanford.edu/deepsnap/modules/dataset.html#deepsnap-graphdataset)."
      ]
    },
    {
      "cell_type": "markdown",
      "metadata": {
        "id": "HSidf9E0hn2s"
      },
      "source": [
        "Lets now use COX2 dataset which contains a list of graphs and specify the task to `graph` when we initialize the DeepSNAP dataset."
      ]
    },
    {
      "cell_type": "code",
      "metadata": {
        "id": "l4kqUldyoaS_",
        "outputId": "d948e974-8044-4681-f96c-50e43718e5bc",
        "colab": {
          "base_uri": "https://localhost:8080/"
        }
      },
      "source": [
        "root = './tmp/cox2'\n",
        "name = 'COX2'\n",
        "\n",
        "# Load the dataset through PyG\n",
        "pyg_dataset = TUDataset(root, name)\n",
        "\n",
        "# Convert to a list of deepsnap graphs\n",
        "graphs = GraphDataset.pyg_to_graphs(pyg_dataset)\n",
        "\n",
        "# Convert list of deepsnap graphs to deepsnap dataset with specified task=graph\n",
        "dataset = GraphDataset(graphs, task='graph')\n",
        "print(dataset)"
      ],
      "execution_count": 14,
      "outputs": [
        {
          "output_type": "stream",
          "text": [
            "Downloading https://www.chrsmrrs.com/graphkerneldatasets/COX2.zip\n",
            "Extracting tmp/cox2/COX2/COX2.zip\n",
            "Processing...\n",
            "Done!\n",
            "GraphDataset(467)\n"
          ],
          "name": "stdout"
        }
      ]
    },
    {
      "cell_type": "markdown",
      "metadata": {
        "id": "7sCV3xJWCddX"
      },
      "source": [
        "## Question 2.2: What is the label of the graph (index 100 in the COX2 dataset)? (5 points)\n",
        "\n",
        "Submit your answers on Gradescope."
      ]
    },
    {
      "cell_type": "code",
      "metadata": {
        "id": "LIis9oTZAfs3",
        "outputId": "53aa5a37-fa93-4c7c-a411-780eb6a005be",
        "colab": {
          "base_uri": "https://localhost:8080/"
        }
      },
      "source": [
        "def get_graph_class(dataset, idx):\n",
        "  # TODO: Implement this function that takes a deepsnap dataset object,\n",
        "  # the index of the graph in the dataset, and returns the class/label \n",
        "  # of the graph (in integer).\n",
        "\n",
        "  label = -1\n",
        "\n",
        "  ############# Your code here ############\n",
        "  ## (~1 line of code)\n",
        "  ## Note\n",
        "  ## 1. The label refers to the graph-level attribute\n",
        "  label = dataset[idx].graph_label\n",
        "\n",
        "\n",
        "  #########################################\n",
        "\n",
        "  return label\n",
        "\n",
        "graph_0 = dataset[0]\n",
        "print(graph_0)\n",
        "idx = 100\n",
        "label = get_graph_class(dataset, idx)\n",
        "print('Graph with index {} has label {}'.format(idx, label))"
      ],
      "execution_count": 15,
      "outputs": [
        {
          "output_type": "stream",
          "text": [
            "Graph(G=[], edge_index=[2, 82], edge_label_index=[2, 82], graph_label=[1], node_feature=[39, 35], node_label_index=[39], task=[])\n",
            "Graph with index 100 has label tensor([0])\n"
          ],
          "name": "stdout"
        }
      ]
    },
    {
      "cell_type": "markdown",
      "metadata": {
        "id": "fKhcVeAhCwoY"
      },
      "source": [
        "## Question 2.3: What is the number of edges for the graph (index 200 in the COX2 dataset)? (5 points)\n",
        "\n",
        "Submit your answers on Gradescope."
      ]
    },
    {
      "cell_type": "code",
      "metadata": {
        "id": "f5m2DOfhBtWv",
        "outputId": "d23a6117-ad21-420a-ebda-a9eb2da2c044",
        "colab": {
          "base_uri": "https://localhost:8080/"
        }
      },
      "source": [
        "def get_graph_num_edges(dataset, idx):\n",
        "  # TODO: Implement this function that takes a deepsnap dataset object,\n",
        "  # the index of the graph in dataset, and returns the number of \n",
        "  # edges in the graph (in integer).\n",
        "\n",
        "  num_edges = 0\n",
        "\n",
        "  ############# Your code here ############\n",
        "  ## (~1 lines of code)\n",
        "  ## Note\n",
        "  ## 1. You can use the class property directly\n",
        "  num_edges = dataset[idx].num_edges\n",
        "\n",
        "\n",
        "  #########################################\n",
        "\n",
        "  return num_edges\n",
        "\n",
        "idx = 200\n",
        "num_edges = get_graph_num_edges(dataset, idx)\n",
        "print('Graph with index {} has {} edges'.format(idx, num_edges))"
      ],
      "execution_count": 16,
      "outputs": [
        {
          "output_type": "stream",
          "text": [
            "Graph with index 200 has 49 edges\n"
          ],
          "name": "stdout"
        }
      ]
    },
    {
      "cell_type": "markdown",
      "metadata": {
        "id": "AXa7yIG4E0Fp"
      },
      "source": [
        "# 3 DeepSNAP Advanced\n",
        "\n",
        "We have learned the basic use of DeepSNAP graph and dataset :)\n",
        "\n",
        "Lets move on to some more advanced functionalities.\n",
        "\n",
        "In this section we will use DeepSNAP for faeture computation and transductive/inductive splittings."
      ]
    },
    {
      "cell_type": "markdown",
      "metadata": {
        "id": "Y5fsGBLY8cxa"
      },
      "source": [
        "## Setup"
      ]
    },
    {
      "cell_type": "code",
      "metadata": {
        "id": "g-jgRLiQ8cSj"
      },
      "source": [
        "import torch\n",
        "import networkx as nx\n",
        "import matplotlib.pyplot as plt\n",
        "\n",
        "from deepsnap.graph import Graph\n",
        "from deepsnap.batch import Batch\n",
        "from deepsnap.dataset import GraphDataset\n",
        "from torch_geometric.datasets import Planetoid, TUDataset\n",
        "\n",
        "from torch.utils.data import DataLoader"
      ],
      "execution_count": 17,
      "outputs": []
    },
    {
      "cell_type": "markdown",
      "metadata": {
        "id": "HnazPGGAJAZN"
      },
      "source": [
        "## Data Split in Graphs\n",
        "\n",
        "Data splitting in graphs can be much harder than that in CV or NLP.\n",
        "\n",
        "In general, the data splitting in graphs can be divided into two settings, **inductive** and **transductive**."
      ]
    },
    {
      "cell_type": "markdown",
      "metadata": {
        "id": "l9KG_MhqsWBp"
      },
      "source": [
        "## Inductive Split\n",
        "\n",
        "As what we have learned in the lecture, inductive setting will split multiple graphs into each training/valiation and test sets.\n",
        "\n",
        "Here is an example of DeepSNAP inductive splitting for a list of graphs in the graph level task (graph classification etc.)"
      ]
    },
    {
      "cell_type": "code",
      "metadata": {
        "id": "Gpc6bTm3GF02",
        "outputId": "b9a1105c-62cc-4c4e-c835-49e4a61edde4",
        "colab": {
          "base_uri": "https://localhost:8080/"
        }
      },
      "source": [
        "root = './tmp/cox2'\n",
        "name = 'COX2'\n",
        "\n",
        "pyg_dataset = TUDataset(root, name)\n",
        "\n",
        "graphs = GraphDataset.pyg_to_graphs(pyg_dataset)\n",
        "\n",
        "# Here we specify the task as graph-level task such as graph classification\n",
        "task = 'graph'\n",
        "dataset = GraphDataset(graphs, task=task)\n",
        "\n",
        "# Specify transductive=False (inductive)\n",
        "dataset_train, dataset_val, dataset_test = dataset.split(transductive=False, split_ratio=[0.8, 0.1, 0.1])\n",
        "\n",
        "print(\"COX2 train dataset: {}\".format(dataset_train))\n",
        "print(\"COX2 validation dataset: {}\".format(dataset_val))\n",
        "print(\"COX2 test dataset: {}\".format(dataset_test))"
      ],
      "execution_count": 18,
      "outputs": [
        {
          "output_type": "stream",
          "text": [
            "COX2 train dataset: GraphDataset(373)\n",
            "COX2 validation dataset: GraphDataset(46)\n",
            "COX2 test dataset: GraphDataset(48)\n"
          ],
          "name": "stdout"
        }
      ]
    },
    {
      "cell_type": "markdown",
      "metadata": {
        "id": "yWKQwa4WsgQp"
      },
      "source": [
        "## Transductive Split\n",
        "\n",
        "In transductive setting, the training /validation / test sets are on the same graph.\n",
        "\n",
        "Here we transductively split the CORA graph in the node level task. \n",
        "\n",
        "(Notice that in DeepSNAP default setting the split is random, but you can also make a fixed split by specifying `fixed_split=True` when loading the dataset from PyG or changing the `node_label_index` directly)."
      ]
    },
    {
      "cell_type": "code",
      "metadata": {
        "id": "b5OdxSg4sfyR",
        "outputId": "29d85686-ac16-4f9f-e9a7-a88ede586dce",
        "colab": {
          "base_uri": "https://localhost:8080/"
        }
      },
      "source": [
        "root = './tmp/cora'\n",
        "name = 'Cora'\n",
        "\n",
        "pyg_dataset = Planetoid(root, name)\n",
        "\n",
        "graphs = GraphDataset.pyg_to_graphs(pyg_dataset)\n",
        "\n",
        "# Here we specify the task as node-level task such as node classification\n",
        "task = 'node'\n",
        "\n",
        "dataset = GraphDataset(graphs, task=task)\n",
        "\n",
        "# Specify we want the transductive splitting\n",
        "dataset_train, dataset_val, dataset_test = dataset.split(transductive=True, split_ratio=[0.8, 0.1, 0.1])\n",
        "\n",
        "print(\"Cora train dataset: {}\".format(dataset_train))\n",
        "print(\"Cora validation dataset: {}\".format(dataset_val))\n",
        "print(\"Cora test dataset: {}\".format(dataset_test))\n",
        "\n",
        "print(\"Original Cora has {} nodes\".format(dataset.num_nodes[0]))\n",
        "\n",
        "# The nodes in each set can be find in node_label_index\n",
        "print(\"After the split, Cora has {} training nodes\".format(dataset_train[0].node_label_index.shape[0]))\n",
        "print(\"After the split, Cora has {} validation nodes\".format(dataset_val[0].node_label_index.shape[0]))\n",
        "print(\"After the split, Cora has {} test nodes\".format(dataset_test[0].node_label_index.shape[0]))"
      ],
      "execution_count": 19,
      "outputs": [
        {
          "output_type": "stream",
          "text": [
            "Cora train dataset: GraphDataset(1)\n",
            "Cora validation dataset: GraphDataset(1)\n",
            "Cora test dataset: GraphDataset(1)\n",
            "Original Cora has 2708 nodes\n",
            "After the split, Cora has 2166 training nodes\n",
            "After the split, Cora has 270 validation nodes\n",
            "After the split, Cora has 272 test nodes\n"
          ],
          "name": "stdout"
        }
      ]
    },
    {
      "cell_type": "markdown",
      "metadata": {
        "id": "d7ePKgM00lGE"
      },
      "source": [
        "## Edge Level Split\n",
        "\n",
        "Compared to the node and graph level splitting, edge level splitting is a little bit tricky ;)\n",
        "\n",
        "Usually in edge level splitting, we need to sample negative edges, split positive edges into different datasets, split training edges into message passing edges and supervision edges, and resample the negative edges during the training etc."
      ]
    },
    {
      "cell_type": "markdown",
      "metadata": {
        "id": "SnzISX5RoiR6"
      },
      "source": [
        "### All Mode\n",
        "\n",
        "Now lets start with a simpler edge level splitting mode, the `edge_train_mode=\"all\"` mode in DeepSNAP."
      ]
    },
    {
      "cell_type": "code",
      "metadata": {
        "id": "_D104xO6137n",
        "outputId": "995055f3-37b6-4e29-e235-27bdcebeb71f",
        "colab": {
          "base_uri": "https://localhost:8080/"
        }
      },
      "source": [
        "root = './tmp/cora'\n",
        "name = 'Cora'\n",
        "\n",
        "pyg_dataset = Planetoid(root, name)\n",
        "\n",
        "graphs = GraphDataset.pyg_to_graphs(pyg_dataset)\n",
        "\n",
        "# Specify task as link_pred for edge-level task\n",
        "task = 'link_pred'\n",
        "\n",
        "# Specify the train mode, \"all\" mode is default for deepsnap dataset\n",
        "edge_train_mode = \"all\"\n",
        "\n",
        "dataset = GraphDataset(graphs, task=task, edge_train_mode=edge_train_mode)\n",
        "\n",
        "# Transductive link prediction split\n",
        "dataset_train, dataset_val, dataset_test = dataset.split(transductive=True, split_ratio=[0.8, 0.1, 0.1])\n",
        "\n",
        "print(\"Cora train dataset: {}\".format(dataset_train))\n",
        "print(\"Cora validation dataset: {}\".format(dataset_val))\n",
        "print(\"Cora test dataset: {}\".format(dataset_test))"
      ],
      "execution_count": 20,
      "outputs": [
        {
          "output_type": "stream",
          "text": [
            "Cora train dataset: GraphDataset(1)\n",
            "Cora validation dataset: GraphDataset(1)\n",
            "Cora test dataset: GraphDataset(1)\n"
          ],
          "name": "stdout"
        },
        {
          "output_type": "stream",
          "text": [
            "/usr/local/lib/python3.6/dist-packages/deepsnap/graph.py:2058: UserWarning: This overload of nonzero is deprecated:\n",
            "\tnonzero()\n",
            "Consider using one of the following signatures instead:\n",
            "\tnonzero(*, bool as_tuple) (Triggered internally at  /pytorch/torch/csrc/utils/python_arg_parser.cpp:882.)\n",
            "  rest = mask.nonzero().view(-1)\n"
          ],
          "name": "stderr"
        }
      ]
    },
    {
      "cell_type": "markdown",
      "metadata": {
        "id": "GscopwOXC_Y7"
      },
      "source": [
        "In DeepSNAP, the indices of supervision edges are stored in `edge_label_index` tensor and the corresponding edge labels are stored in `edge_label` tensor."
      ]
    },
    {
      "cell_type": "code",
      "metadata": {
        "id": "XJF8fZnA2eLR",
        "outputId": "d028d100-46b9-4046-a5e1-aee666761e8b",
        "colab": {
          "base_uri": "https://localhost:8080/"
        }
      },
      "source": [
        "print(\"Original Cora graph has {} edges\".format(dataset[0].num_edges))\n",
        "print(\"Because Cora graph is undirected, the original edge_index has shape {}\".format(dataset[0].edge_index.shape))\n",
        "\n",
        "print(\"The training set has message passing edge index shape {}\".format(dataset_train[0].edge_index.shape))\n",
        "print(\"The training set has supervision edge index shape {}\".format(dataset_train[0].edge_label_index.shape))\n",
        "\n",
        "print(\"The validation set has message passing edge index shape {}\".format(dataset_val[0].edge_index.shape))\n",
        "print(\"The validation set has supervision edge index shape {}\".format(dataset_val[0].edge_label_index.shape))\n",
        "\n",
        "print(\"The test set has message passing edge index shape {}\".format(dataset_test[0].edge_index.shape))\n",
        "print(\"The test set has supervision edge index shape {}\".format(dataset_test[0].edge_label_index.shape))"
      ],
      "execution_count": 21,
      "outputs": [
        {
          "output_type": "stream",
          "text": [
            "Original Cora graph has 5278 edges\n",
            "Because Cora graph is undirected, the original edge_index has shape torch.Size([2, 10556])\n",
            "The training set has message passing edge index shape torch.Size([2, 8444])\n",
            "The training set has supervision edge index shape torch.Size([2, 16888])\n",
            "The validation set has message passing edge index shape torch.Size([2, 8444])\n",
            "The validation set has supervision edge index shape torch.Size([2, 2108])\n",
            "The test set has message passing edge index shape torch.Size([2, 9498])\n",
            "The test set has supervision edge index shape torch.Size([2, 2116])\n"
          ],
          "name": "stdout"
        }
      ]
    },
    {
      "cell_type": "markdown",
      "metadata": {
        "id": "s6BX-I_oEKQX"
      },
      "source": [
        "We can see that both training and validation sets have the same message passing edges (`edge_index`) in the `all` mode. Also, in training set, the postive supervision edges (`edge_label_index`) are same with the message passing edges. However, in the test set the message passing edges are the combination of message passing edges from training and validation sets.\n",
        "\n",
        "Notice that the `edge_label` and `edge_label_index` have included the negative edges (default number of negative edges is same with the number of positive edges).\n",
        "\n",
        "Now, lets implement a function that checks whether two edge index tensors are disjoint and explore more edge splitting properties by using that function."
      ]
    },
    {
      "cell_type": "markdown",
      "metadata": {
        "id": "YOZHDskbAKN6"
      },
      "source": [
        "## Question 3.1 - 3.5: Implement the function that checks whether two edge_index tensors are disjoint. Then answer the True/False questions below. (5 points)\n",
        "\n",
        "Submit your answers on Gradescope."
      ]
    },
    {
      "cell_type": "code",
      "metadata": {
        "id": "wgRYdyPp8EmO"
      },
      "source": [
        "def edge_indices_disjoint(edge_index_1, edge_index_2):\n",
        "  # TODO: Implement this function that takes two edge index tensors,\n",
        "  # and returns whether these two edge index tensors are disjoint.\n",
        "  disjoint = None\n",
        "\n",
        "  ############# Your code here ############\n",
        "  ## (~5 lines of code)\n",
        "  ## Note\n",
        "  ## 1. Here disjoint means that there is no single edge belongs to either edge index tensors\n",
        "  ## 2. You do not need to consider the undirected case. For example, if edge_index_1 contains\n",
        "  ## edge (a, b) and edge_index_2 contains edge (b, a). We will treat them as disjoint in this\n",
        "  ## function.\n",
        "  disjoint = True\n",
        "  st = set()\n",
        "  for i in range(edge_index_1.shape[1]):\n",
        "    st.add(tuple(edge_index_1[:, i].numpy().tolist()))\n",
        "  for i in range(edge_index_2.shape[1]):\n",
        "    tmp = tuple(edge_index_2[:, i].numpy().tolist())\n",
        "    if tmp in st:\n",
        "        return False\n",
        "  #########################################\n",
        "\n",
        "  return disjoint"
      ],
      "execution_count": 22,
      "outputs": []
    },
    {
      "cell_type": "code",
      "metadata": {
        "id": "EL4ASIDDEIUf",
        "outputId": "8af563eb-edfe-4b0d-af37-01a765d641fa",
        "colab": {
          "base_uri": "https://localhost:8080/"
        }
      },
      "source": [
        "num_train_edges = dataset_train[0].edge_label_index.shape[1] // 2\n",
        "train_pos_edge_index = dataset_train[0].edge_label_index[:, :num_train_edges]\n",
        "train_neg_edge_index = dataset_train[0].edge_label_index[:, num_train_edges:]\n",
        "print(train_pos_edge_index.shape, train_neg_edge_index.shape)\n",
        "print(\"3.1 Training (supervision) positve and negative edges are disjoint = {}\"\\\n",
        "        .format(edge_indices_disjoint(train_pos_edge_index, train_neg_edge_index)))\n",
        "\n",
        "num_val_edges = dataset_val[0].edge_label_index.shape[1] // 2\n",
        "val_pos_edge_index = dataset_val[0].edge_label_index[:, :num_val_edges]\n",
        "val_neg_edge_index = dataset_val[0].edge_label_index[:, num_val_edges:]\n",
        "print(\"3.2 Validation (supervision) positve and negative edges are disjoint = {}\"\\\n",
        "        .format(edge_indices_disjoint(val_pos_edge_index, val_neg_edge_index)))\n",
        "\n",
        "num_test_edges = dataset_test[0].edge_label_index.shape[1] // 2\n",
        "test_pos_edge_index = dataset_test[0].edge_label_index[:, :num_test_edges]\n",
        "test_neg_edge_index = dataset_test[0].edge_label_index[:, num_test_edges:]\n",
        "print(\"3.3 Test (supervision) positve and negative edges are disjoint = {}\"\\\n",
        "        .format(edge_indices_disjoint(test_pos_edge_index, test_neg_edge_index)))\n",
        "\n",
        "print(\"3.4 Test (supervision) positve and validation (supervision) positve edges are disjoint = {}\"\\\n",
        "        .format(edge_indices_disjoint(test_pos_edge_index, val_pos_edge_index)))\n",
        "print(\"3.5 Validation (supervision) positve and training (supervision) positve edges are disjoint = {}\"\\\n",
        "        .format(edge_indices_disjoint(val_pos_edge_index, train_pos_edge_index)))"
      ],
      "execution_count": 23,
      "outputs": [
        {
          "output_type": "stream",
          "text": [
            "torch.Size([2, 8444]) torch.Size([2, 8444])\n",
            "3.1 Training (supervision) positve and negative edges are disjoint = True\n",
            "3.2 Validation (supervision) positve and negative edges are disjoint = True\n",
            "3.3 Test (supervision) positve and negative edges are disjoint = True\n",
            "3.4 Test (supervision) positve and validation (supervision) positve edges are disjoint = True\n",
            "3.5 Validation (supervision) positve and training (supervision) positve edges are disjoint = True\n"
          ],
          "name": "stdout"
        }
      ]
    },
    {
      "cell_type": "markdown",
      "metadata": {
        "id": "8jLoVN5ZBTuA"
      },
      "source": [
        "### Disjoint Mode\n",
        "\n",
        "Now lets look at a relatively more complex transductive edge split setting, which is the `edge_train_mode=\"disjoint\"` mode in DeepSNAP (also the transductive link prediction splitting talked in the lecture)"
      ]
    },
    {
      "cell_type": "code",
      "metadata": {
        "id": "3Rqzfb-0BTBm",
        "outputId": "9acbd63e-ca7f-4c34-a64d-866ccadcc197",
        "colab": {
          "base_uri": "https://localhost:8080/"
        }
      },
      "source": [
        "edge_train_mode = \"disjoint\"\n",
        "\n",
        "dataset = GraphDataset(graphs, task='link_pred', edge_train_mode=edge_train_mode)\n",
        "orig_edge_index = dataset[0].edge_index\n",
        "dataset_train, dataset_val, dataset_test = dataset.split(\n",
        "    transductive=True, split_ratio=[0.8, 0.1, 0.1])\n",
        "\n",
        "train_message_edge_index = dataset_train[0].edge_index\n",
        "train_sup_edge_index = dataset_train[0].edge_label_index\n",
        "val_sup_edge_index = dataset_val[0].edge_label_index\n",
        "test_sup_edge_index = dataset_test[0].edge_label_index\n",
        "\n",
        "print(\"The edge index of original graph has shape: {}\".format(orig_edge_index.shape))\n",
        "print(\"The edge index of training message edges has shape: {}\".format(train_message_edge_index.shape))\n",
        "print(\"The edge index of training supervision edges has shape: {}\".format(train_sup_edge_index.shape))\n",
        "print(\"The edge index of validation message edges has shape: {}\".format(dataset_val[0].edge_index.shape))\n",
        "print(\"The edge index of validation supervision edges has shape: {}\".format(val_sup_edge_index.shape))\n",
        "print(\"The edge index of test message edges has shape: {}\".format(dataset_test[0].edge_index.shape))\n",
        "print(\"The edge index of test supervision edges has shape: {}\".format(test_sup_edge_index.shape))"
      ],
      "execution_count": 24,
      "outputs": [
        {
          "output_type": "stream",
          "text": [
            "The edge index of original graph has shape: torch.Size([2, 10556])\n",
            "The edge index of training message edges has shape: torch.Size([2, 6754])\n",
            "The edge index of training supervision edges has shape: torch.Size([2, 3380])\n",
            "The edge index of validation message edges has shape: torch.Size([2, 8444])\n",
            "The edge index of validation supervision edges has shape: torch.Size([2, 2108])\n",
            "The edge index of test message edges has shape: torch.Size([2, 9498])\n",
            "The edge index of test supervision edges has shape: torch.Size([2, 2116])\n"
          ],
          "name": "stdout"
        }
      ]
    },
    {
      "cell_type": "markdown",
      "metadata": {
        "id": "TUkBhiJNciol"
      },
      "source": [
        "You can see that the training / validation message passing edges and training supervision edges are splitted differently in those two modes!"
      ]
    },
    {
      "cell_type": "markdown",
      "metadata": {
        "id": "2WKfRjqAJHtK"
      },
      "source": [
        "### Resample Negative Edges\n",
        "\n",
        "During each training iteration, we usually need to resample the negative edges.\n",
        "\n",
        "Below we print the training and validation sets negative edges in two training iterations.\n",
        "\n",
        "You should find that the negative edges in training set will be resampled."
      ]
    },
    {
      "cell_type": "code",
      "metadata": {
        "id": "AMEbnx63JHWj",
        "outputId": "e3ab9e8a-f1a3-4a33-b047-2d0b92751dd4",
        "colab": {
          "base_uri": "https://localhost:8080/"
        }
      },
      "source": [
        "dataset = GraphDataset(graphs, task='link_pred', edge_train_mode=\"disjoint\")\n",
        "datasets = {}\n",
        "follow_batch = []\n",
        "datasets['train'], datasets['val'], datasets['test'] = dataset.split(\n",
        "    transductive=True, split_ratio=[0.8, 0.1, 0.1])\n",
        "dataloaders = {\n",
        "  split: DataLoader(\n",
        "    ds, collate_fn=Batch.collate(follow_batch),\n",
        "    batch_size=1, shuffle=(split=='train')\n",
        "  )\n",
        "  for split, ds in datasets.items()\n",
        "}\n",
        "neg_edges_1 = None\n",
        "for batch in dataloaders['train']:\n",
        "  num_edges = batch.edge_label_index.shape[1] // 2\n",
        "  neg_edges_1 = batch.edge_label_index[:, num_edges:]\n",
        "  print(\"First iteration training negative edges:\")\n",
        "  print(neg_edges_1)\n",
        "  break\n",
        "neg_edges_2 = None\n",
        "for batch in dataloaders['train']:\n",
        "  num_edges = batch.edge_label_index.shape[1] // 2\n",
        "  neg_edges_2 = batch.edge_label_index[:, num_edges:]\n",
        "  print(\"Second iteration training negative edges:\")\n",
        "  print(neg_edges_2)\n",
        "  break\n",
        "\n",
        "neg_edges_1 = None\n",
        "for batch in dataloaders['val']:\n",
        "  num_edges = batch.edge_label_index.shape[1] // 2\n",
        "  neg_edges_1 = batch.edge_label_index[:, num_edges:]\n",
        "  print(\"First iteration validation negative edges:\")\n",
        "  print(neg_edges_1)\n",
        "  break\n",
        "neg_edges_2 = None\n",
        "for batch in dataloaders['val']:\n",
        "  num_edges = batch.edge_label_index.shape[1] // 2\n",
        "  neg_edges_2 = batch.edge_label_index[:, num_edges:]\n",
        "  print(\"Second iteration validation negative edges:\")\n",
        "  print(neg_edges_2)\n",
        "  break"
      ],
      "execution_count": 25,
      "outputs": [
        {
          "output_type": "stream",
          "text": [
            "First iteration training negative edges:\n",
            "tensor([[1793, 1252, 2607,  ..., 1291, 2068, 1990],\n",
            "        [1408, 2608,   46,  ..., 2370, 2362, 1730]])\n",
            "Second iteration training negative edges:\n",
            "tensor([[1442,  932, 1890,  ..., 1951,  245,   52],\n",
            "        [1394,   22, 2578,  ...,  848, 1473, 2116]])\n",
            "First iteration validation negative edges:\n",
            "tensor([[ 840, 1596, 1068,  ..., 1311,  532,  420],\n",
            "        [1550, 2229, 1236,  ..., 2624,  452, 1268]])\n",
            "Second iteration validation negative edges:\n",
            "tensor([[ 840, 1596, 1068,  ..., 1311,  532,  420],\n",
            "        [1550, 2229, 1236,  ..., 2624,  452, 1268]])\n"
          ],
          "name": "stdout"
        }
      ]
    },
    {
      "cell_type": "markdown",
      "metadata": {
        "id": "DEzqh7wEdrh0"
      },
      "source": [
        "If you are interested in more graph splitting settings, please refer to the DeepSNAP dataset [documentation](https://snap.stanford.edu/deepsnap/modules/dataset.html)."
      ]
    },
    {
      "cell_type": "markdown",
      "metadata": {
        "id": "XkrYyeSUI_9_"
      },
      "source": [
        "## Graph Transformation and Feature Computation\n",
        "\n",
        "The other DeepSNAP core functionality is graph transformation / feature computation.\n",
        "\n",
        "In DeepSNAP, we divide graph transformation / feature computation into two different types. One is the transformation before training (transform the whole dataset before training directly) and another one is the transformation during training (transform batches of graphs).\n",
        "\n",
        "Here is an example that uses NetworkX back end to calculate the PageRank value and update the value to tensors before the training (transform the dataset)."
      ]
    },
    {
      "cell_type": "code",
      "metadata": {
        "id": "gnAVbZINLZ4I",
        "outputId": "f12f91cc-9b89-4b82-ceef-78af28f74864",
        "colab": {
          "base_uri": "https://localhost:8080/"
        }
      },
      "source": [
        "def pagerank_transform_fn(graph):\n",
        "\n",
        "  # Get the referenced networkx graph\n",
        "  G = graph.G\n",
        "\n",
        "  # Calculate the pagerank by using networkx\n",
        "  pr = nx.pagerank(G)\n",
        "\n",
        "  # Transform the pagerank values to tensor\n",
        "  pr_feature = torch.tensor([pr[node] for node in range(graph.num_nodes)], dtype=torch.float32)\n",
        "  pr_feature = pr_feature.view(graph.num_nodes, 1)\n",
        "\n",
        "  # Concat the pagerank values to the node feature\n",
        "  graph.node_feature = torch.cat([graph.node_feature, pr_feature], dim=-1)\n",
        "\n",
        "root = './tmp/cox2'\n",
        "name = 'COX2'\n",
        "pyg_dataset = TUDataset(root, name)\n",
        "graphs = GraphDataset.pyg_to_graphs(pyg_dataset)\n",
        "dataset = GraphDataset(graphs, task='graph')\n",
        "print(\"Number of features before transformation: {}\".format(dataset.num_node_features))\n",
        "dataset.apply_transform(pagerank_transform_fn, update_tensor=False)\n",
        "print(\"Number of features after transformation: {}\".format(dataset.num_node_features))"
      ],
      "execution_count": 26,
      "outputs": [
        {
          "output_type": "stream",
          "text": [
            "Number of features before transformation: 35\n",
            "Number of features after transformation: 36\n"
          ],
          "name": "stdout"
        }
      ]
    },
    {
      "cell_type": "markdown",
      "metadata": {
        "id": "LHByE87SQkUw"
      },
      "source": [
        "## Question 3.6: Implement the transformation below and report the clustering coefficient of the node (index 3) of the graph (index 406) in the COX2 dataset. Rounded the answer to two decimal places. (5 points)"
      ]
    },
    {
      "cell_type": "code",
      "metadata": {
        "id": "RNEjfOZRNjYb",
        "outputId": "a1dad1df-46a5-4cf8-e406-0559f475d1e7",
        "colab": {
          "base_uri": "https://localhost:8080/"
        }
      },
      "source": [
        "def cluster_transform_fn(graph):\n",
        "  # TODO: Implement this function that takes an deepsnap graph object,\n",
        "  # transform the graph by adding nodes clustering coefficient into the \n",
        "  # graph.node_feature\n",
        "\n",
        "  ############# Your code here ############\n",
        "  ## (~5 lines of code)\n",
        "  ## Note\n",
        "  ## 1. Compute the clustering coefficient value for each node and\n",
        "  ## concat them to the last dimension of graph.node_feature\n",
        "\n",
        "  # Get the referenced networkx graph\n",
        "  G = graph.G\n",
        "  # Calculate\n",
        "  pr = nx.algorithms.cluster.clustering(G)\n",
        "\n",
        "  # Transform the pagerank values to tensor\n",
        "  pr_feature = torch.tensor([pr[node] for node in range(graph.num_nodes)], dtype=torch.float32)\n",
        "  pr_feature = pr_feature.view(graph.num_nodes, 1)\n",
        "\n",
        "  # Concat the pagerank values to the node feature\n",
        "  graph.node_feature = torch.cat([graph.node_feature, pr_feature], dim=-1)\n",
        "  #########################################\n",
        "\n",
        "root = './cox2'\n",
        "name = 'COX2'\n",
        "pyg_dataset = TUDataset(root, name)\n",
        "graphs = GraphDataset.pyg_to_graphs(pyg_dataset)\n",
        "dataset = GraphDataset(graphs, task='graph')\n",
        "\n",
        "# Transform the dataset\n",
        "dataset.apply_transform(cluster_transform_fn, update_tensor=False)\n",
        "\n",
        "node_idx = 3\n",
        "graph_idx = 406\n",
        "node_feature = dataset[graph_idx].node_feature\n",
        "\n",
        "print(\"The node has clustering coefficient: {}\".format(round(node_feature[node_idx][-1].item(), 2)))"
      ],
      "execution_count": 27,
      "outputs": [
        {
          "output_type": "stream",
          "text": [
            "Downloading https://www.chrsmrrs.com/graphkerneldatasets/COX2.zip\n",
            "Extracting cox2/COX2/COX2.zip\n",
            "Processing...\n",
            "Done!\n",
            "The node has clustering coefficient: 0.04\n"
          ],
          "name": "stdout"
        }
      ]
    },
    {
      "cell_type": "markdown",
      "metadata": {
        "id": "4P5Ig7XaPYzp"
      },
      "source": [
        "Apart from transforming the dataset, DeepSNAP can also transform the graph (usually the `deepsnap.batch.Batch`) during each training iteration.\n",
        "\n",
        "Also, DeepSNAP supports the synchronization of the transformation between the referenced graph objects and tensor representations. For example, you can just update the NetworkX graph object in the transform function, and by specifying `update_tensor=True` the internal tensor representations will be automatically updated.\n",
        "\n",
        "For more information, please refer to the DeepSNAP [documentation](https://snap.stanford.edu/deepsnap/)."
      ]
    },
    {
      "cell_type": "markdown",
      "metadata": {
        "id": "s-YLYMLFQYqp"
      },
      "source": [
        "# 4 Edge Level Prediction\n",
        "\n",
        "From last section, we know how DeepSNAP transductive split the edges in the link prediction task.\n",
        "\n",
        "Now lets use DeepSNAP and PyG together to implement a edge level prediction (link prediction) model!"
      ]
    },
    {
      "cell_type": "code",
      "metadata": {
        "id": "hrKCNtvERypQ"
      },
      "source": [
        "import copy\n",
        "import torch\n",
        "import numpy as np\n",
        "import networkx as nx\n",
        "import matplotlib.pyplot as plt\n",
        "\n",
        "from deepsnap.graph import Graph\n",
        "from deepsnap.batch import Batch\n",
        "from deepsnap.dataset import GraphDataset\n",
        "from torch_geometric.datasets import Planetoid, TUDataset\n",
        "\n",
        "from torch.utils.data import DataLoader\n",
        "\n",
        "import torch.nn.functional as F\n",
        "from torch_geometric.nn import SAGEConv\n",
        "\n",
        "class LinkPredModel(torch.nn.Module):\n",
        "    def __init__(self, input_dim, hidden_dim, num_classes, dropout=0.2):\n",
        "        super(LinkPredModel, self).__init__()\n",
        "\n",
        "        self.conv1 = SAGEConv(input_dim, hidden_dim)\n",
        "        self.conv2 = SAGEConv(hidden_dim, num_classes)\n",
        "\n",
        "        self.loss_fn = None\n",
        "\n",
        "        ############# Your code here #############\n",
        "        ## (~1 line of code)\n",
        "        ## Note\n",
        "        ## 1. Initialize the loss function to BCEWithLogitsLoss\n",
        "        self.loss_fn = torch.nn.BCEWithLogitsLoss()\n",
        "\n",
        "        ##########################################\n",
        "\n",
        "        self.dropout = dropout\n",
        "\n",
        "    def reset_parameters(self):\n",
        "        self.conv1.reset_parameters()\n",
        "        self.conv2.reset_parameters()\n",
        "\n",
        "    def forward(self, batch):\n",
        "        node_feature, edge_index, edge_label_index = batch.node_feature, batch.edge_index, batch.edge_label_index\n",
        "        \n",
        "        ############# Your code here #############\n",
        "        ## (~6 line of code)\n",
        "        ## Note\n",
        "        ## 1. Feed the node feature into the first conv layer\n",
        "        ## 2. Add a ReLU after the first conv layer\n",
        "        ## 3. Add dropout after the ReLU (with probability self.dropout)\n",
        "        ## 4. Feed the output to the second conv layer\n",
        "        ## 5. Select the embeddings of the source nodes and destination nodes\n",
        "        ## by using the edge_label_index and compute the similarity of each pair\n",
        "        ## by dot product\n",
        "\n",
        "        x = self.conv1(node_feature, edge_index)\n",
        "        x = F.relu(x)\n",
        "        x = F.dropout(x, p=self.dropout, training=self.training)\n",
        "        x = self.conv2(x, edge_index)\n",
        "        #u = x[edge_label_index[0, :], :]\n",
        "        u = torch.index_select(x, 0, edge_label_index[0, :].long())\n",
        "        v = torch.index_select(x, 0, edge_label_index[1, :].long())\n",
        "        pred = torch.sum(u*v, dim=-1)\n",
        "        ##########################################\n",
        "\n",
        "        return pred\n",
        "    \n",
        "    def loss(self, pred, link_label):\n",
        "        return self.loss_fn(pred, link_label)"
      ],
      "execution_count": 55,
      "outputs": []
    },
    {
      "cell_type": "code",
      "metadata": {
        "id": "uuKbGFOu1Ka8"
      },
      "source": [
        "from sklearn.metrics import *\n",
        "\n",
        "def train(model, dataloaders, optimizer, args):\n",
        "    val_max = 0\n",
        "    best_model = model\n",
        "\n",
        "    for epoch in range(1, args[\"epochs\"]):\n",
        "        for i, batch in enumerate(dataloaders['train']):\n",
        "            \n",
        "            batch.to(args[\"device\"])\n",
        "\n",
        "            ############# Your code here #############\n",
        "            ## (~6 lines of code)\n",
        "            ## Note\n",
        "            ## 1. Zero grad the optimizer\n",
        "            ## 2. Compute loss and backpropagate\n",
        "            ## 3. Update the model parameters\n",
        "            model.train()\n",
        "            optimizer.zero_grad()\n",
        "            pred = model(batch)\n",
        "            loss = model.loss(pred, batch.edge_label.type(pred.dtype))\n",
        "            loss.backward()\n",
        "            optimizer.step()\n",
        "            ##########################################\n",
        "\n",
        "            log = 'Epoch: {:03d}, Train: {:.4f}, Val: {:.4f}, Test: {:.4f}, Loss: {}'\n",
        "            score_train = test(model, dataloaders['train'], args)\n",
        "            score_val = test(model, dataloaders['val'], args)\n",
        "            score_test = test(model, dataloaders['test'], args)\n",
        "\n",
        "            print(log.format(epoch, score_train, score_val, score_test, loss.item()))\n",
        "            if val_max < score_val:\n",
        "                val_max = score_val\n",
        "                best_model = copy.deepcopy(model)\n",
        "    return best_model\n",
        "\n",
        "def test(model, dataloader, args):\n",
        "    model.eval()\n",
        "\n",
        "    score = 0\n",
        "\n",
        "    ############# Your code here #############\n",
        "    ## (~5 lines of code)\n",
        "    ## Note\n",
        "    ## 1. Loop through batches in the dataloader\n",
        "    ## 2. Feed the batch to the model\n",
        "    ## 3. Feed the model output to sigmoid\n",
        "    ## 4. Compute the ROC-AUC score by using sklearn roc_auc_score function\n",
        "    ## 5. Edge labels are stored in batch.edge_label\n",
        "    for batch in dataloader:\n",
        "      batch.to(args['device'])\n",
        "      pred = model(batch)\n",
        "      score += roc_auc_score(batch.edge_label.flatten().detach().cpu().numpy(),\n",
        "                             pred.flatten().detach().cpu().numpy())\n",
        "    ##########################################\n",
        " \n",
        "    return score"
      ],
      "execution_count": 68,
      "outputs": []
    },
    {
      "cell_type": "code",
      "metadata": {
        "id": "JTKWYX1b33V3"
      },
      "source": [
        "# Please don't change any parameters\n",
        "args = {\n",
        "    \"device\" : 'cuda' if torch.cuda.is_available() else 'cpu',\n",
        "    \"hidden_dim\" : 128,\n",
        "    \"epochs\" : 200,\n",
        "}"
      ],
      "execution_count": 69,
      "outputs": []
    },
    {
      "cell_type": "code",
      "metadata": {
        "id": "Klw_xYnE27xQ",
        "outputId": "dd331f56-a7be-4e9e-e683-bab07c3f8b1a",
        "colab": {
          "base_uri": "https://localhost:8080/"
        }
      },
      "source": [
        "pyg_dataset = Planetoid('./tmp/cora', 'Cora')\n",
        "graphs = GraphDataset.pyg_to_graphs(pyg_dataset)\n",
        "\n",
        "dataset = GraphDataset(\n",
        "        graphs,\n",
        "        task='link_pred',\n",
        "        edge_train_mode=\"disjoint\"\n",
        "    )\n",
        "datasets = {}\n",
        "datasets['train'], datasets['val'], datasets['test']= dataset.split(\n",
        "            transductive=True, split_ratio=[0.85, 0.05, 0.1])\n",
        "input_dim = datasets['train'].num_node_features\n",
        "num_classes = datasets['train'].num_edge_labels\n",
        "\n",
        "model = LinkPredModel(input_dim, args[\"hidden_dim\"], num_classes).to(args[\"device\"])\n",
        "model.reset_parameters()\n",
        "\n",
        "optimizer = torch.optim.SGD(model.parameters(), lr=0.1, momentum=0.9, weight_decay=5e-4)\n",
        "\n",
        "dataloaders = {split: DataLoader(\n",
        "            ds, collate_fn=Batch.collate([]),\n",
        "            batch_size=1, shuffle=(split=='train'))\n",
        "            for split, ds in datasets.items()}\n",
        "best_model = train(model, dataloaders, optimizer, args)\n",
        "log = \"Train: {:.4f}, Val: {:.4f}, Test: {:.4f}\"\n",
        "best_train_roc = test(best_model, dataloaders['train'], args)\n",
        "best_val_roc = test(best_model, dataloaders['val'], args)\n",
        "best_test_roc = test(best_model, dataloaders['test'], args)\n",
        "print(log.format(best_train_roc, best_val_roc, best_test_roc))"
      ],
      "execution_count": 70,
      "outputs": [
        {
          "output_type": "stream",
          "text": [
            "Epoch: 001, Train: 0.4826, Val: 0.4988, Test: 0.5149, Loss: 0.6932541131973267\n",
            "Epoch: 002, Train: 0.4931, Val: 0.4996, Test: 0.5154, Loss: 0.6932185888290405\n",
            "Epoch: 003, Train: 0.4779, Val: 0.5006, Test: 0.5162, Loss: 0.6932134032249451\n",
            "Epoch: 004, Train: 0.4850, Val: 0.5018, Test: 0.5170, Loss: 0.6931909322738647\n",
            "Epoch: 005, Train: 0.4878, Val: 0.5037, Test: 0.5181, Loss: 0.6932036876678467\n",
            "Epoch: 006, Train: 0.5221, Val: 0.5054, Test: 0.5193, Loss: 0.6931814551353455\n",
            "Epoch: 007, Train: 0.5040, Val: 0.5073, Test: 0.5207, Loss: 0.6931490898132324\n",
            "Epoch: 008, Train: 0.5035, Val: 0.5092, Test: 0.5220, Loss: 0.6931706070899963\n",
            "Epoch: 009, Train: 0.5188, Val: 0.5111, Test: 0.5235, Loss: 0.6931253671646118\n",
            "Epoch: 010, Train: 0.5126, Val: 0.5137, Test: 0.5253, Loss: 0.6932362914085388\n",
            "Epoch: 011, Train: 0.5148, Val: 0.5160, Test: 0.5270, Loss: 0.6931501030921936\n",
            "Epoch: 012, Train: 0.5147, Val: 0.5188, Test: 0.5291, Loss: 0.6930637955665588\n",
            "Epoch: 013, Train: 0.5220, Val: 0.5213, Test: 0.5307, Loss: 0.6931272149085999\n",
            "Epoch: 014, Train: 0.5246, Val: 0.5240, Test: 0.5326, Loss: 0.6930682063102722\n",
            "Epoch: 015, Train: 0.5352, Val: 0.5265, Test: 0.5344, Loss: 0.6930788159370422\n",
            "Epoch: 016, Train: 0.5423, Val: 0.5296, Test: 0.5364, Loss: 0.6930041313171387\n",
            "Epoch: 017, Train: 0.5411, Val: 0.5322, Test: 0.5381, Loss: 0.6930027604103088\n",
            "Epoch: 018, Train: 0.5382, Val: 0.5350, Test: 0.5398, Loss: 0.6930351853370667\n",
            "Epoch: 019, Train: 0.5490, Val: 0.5380, Test: 0.5416, Loss: 0.6929662823677063\n",
            "Epoch: 020, Train: 0.5438, Val: 0.5405, Test: 0.5436, Loss: 0.6930273175239563\n",
            "Epoch: 021, Train: 0.5614, Val: 0.5439, Test: 0.5455, Loss: 0.6929727792739868\n",
            "Epoch: 022, Train: 0.5607, Val: 0.5461, Test: 0.5472, Loss: 0.6929637789726257\n",
            "Epoch: 023, Train: 0.5606, Val: 0.5483, Test: 0.5490, Loss: 0.6929627060890198\n",
            "Epoch: 024, Train: 0.5680, Val: 0.5507, Test: 0.5507, Loss: 0.6928538680076599\n",
            "Epoch: 025, Train: 0.5728, Val: 0.5530, Test: 0.5522, Loss: 0.6929309964179993\n",
            "Epoch: 026, Train: 0.5756, Val: 0.5551, Test: 0.5536, Loss: 0.6929441094398499\n",
            "Epoch: 027, Train: 0.5779, Val: 0.5574, Test: 0.5549, Loss: 0.6929001212120056\n",
            "Epoch: 028, Train: 0.5772, Val: 0.5592, Test: 0.5564, Loss: 0.6928524971008301\n",
            "Epoch: 029, Train: 0.5798, Val: 0.5612, Test: 0.5576, Loss: 0.692915678024292\n",
            "Epoch: 030, Train: 0.5811, Val: 0.5631, Test: 0.5589, Loss: 0.6928837299346924\n",
            "Epoch: 031, Train: 0.5826, Val: 0.5645, Test: 0.5602, Loss: 0.6928738355636597\n",
            "Epoch: 032, Train: 0.5832, Val: 0.5658, Test: 0.5611, Loss: 0.6927703022956848\n",
            "Epoch: 033, Train: 0.5972, Val: 0.5673, Test: 0.5619, Loss: 0.6928128600120544\n",
            "Epoch: 034, Train: 0.6048, Val: 0.5684, Test: 0.5629, Loss: 0.6927621364593506\n",
            "Epoch: 035, Train: 0.6075, Val: 0.5694, Test: 0.5634, Loss: 0.6927998065948486\n",
            "Epoch: 036, Train: 0.5992, Val: 0.5704, Test: 0.5642, Loss: 0.6928308606147766\n",
            "Epoch: 037, Train: 0.6026, Val: 0.5713, Test: 0.5649, Loss: 0.6927282214164734\n",
            "Epoch: 038, Train: 0.6086, Val: 0.5723, Test: 0.5655, Loss: 0.6925762891769409\n",
            "Epoch: 039, Train: 0.6092, Val: 0.5731, Test: 0.5657, Loss: 0.6926214098930359\n",
            "Epoch: 040, Train: 0.6079, Val: 0.5737, Test: 0.5661, Loss: 0.6926488876342773\n",
            "Epoch: 041, Train: 0.6012, Val: 0.5743, Test: 0.5666, Loss: 0.6925742030143738\n",
            "Epoch: 042, Train: 0.6068, Val: 0.5747, Test: 0.5673, Loss: 0.6925749182701111\n",
            "Epoch: 043, Train: 0.5995, Val: 0.5753, Test: 0.5678, Loss: 0.6925549507141113\n",
            "Epoch: 044, Train: 0.5991, Val: 0.5756, Test: 0.5684, Loss: 0.6924924254417419\n",
            "Epoch: 045, Train: 0.6057, Val: 0.5764, Test: 0.5688, Loss: 0.6924521327018738\n",
            "Epoch: 046, Train: 0.6201, Val: 0.5772, Test: 0.5692, Loss: 0.6924893856048584\n",
            "Epoch: 047, Train: 0.6230, Val: 0.5780, Test: 0.5697, Loss: 0.6924699544906616\n",
            "Epoch: 048, Train: 0.6128, Val: 0.5786, Test: 0.5701, Loss: 0.6923863887786865\n",
            "Epoch: 049, Train: 0.6282, Val: 0.5793, Test: 0.5706, Loss: 0.6922551393508911\n",
            "Epoch: 050, Train: 0.6233, Val: 0.5799, Test: 0.5713, Loss: 0.6922791600227356\n",
            "Epoch: 051, Train: 0.6403, Val: 0.5805, Test: 0.5716, Loss: 0.6922900080680847\n",
            "Epoch: 052, Train: 0.6303, Val: 0.5811, Test: 0.5720, Loss: 0.6923455595970154\n",
            "Epoch: 053, Train: 0.6385, Val: 0.5818, Test: 0.5727, Loss: 0.6922038197517395\n",
            "Epoch: 054, Train: 0.6322, Val: 0.5822, Test: 0.5732, Loss: 0.6921612024307251\n",
            "Epoch: 055, Train: 0.6381, Val: 0.5828, Test: 0.5737, Loss: 0.6922208070755005\n",
            "Epoch: 056, Train: 0.6368, Val: 0.5836, Test: 0.5745, Loss: 0.6920355558395386\n",
            "Epoch: 057, Train: 0.6461, Val: 0.5845, Test: 0.5752, Loss: 0.6918476819992065\n",
            "Epoch: 058, Train: 0.6479, Val: 0.5854, Test: 0.5758, Loss: 0.6917673945426941\n",
            "Epoch: 059, Train: 0.6333, Val: 0.5860, Test: 0.5763, Loss: 0.6917564272880554\n",
            "Epoch: 060, Train: 0.6448, Val: 0.5866, Test: 0.5769, Loss: 0.6917153596878052\n",
            "Epoch: 061, Train: 0.6454, Val: 0.5876, Test: 0.5774, Loss: 0.6916153430938721\n",
            "Epoch: 062, Train: 0.6435, Val: 0.5879, Test: 0.5778, Loss: 0.6916482448577881\n",
            "Epoch: 063, Train: 0.6531, Val: 0.5883, Test: 0.5782, Loss: 0.691352128982544\n",
            "Epoch: 064, Train: 0.6534, Val: 0.5886, Test: 0.5784, Loss: 0.6910975575447083\n",
            "Epoch: 065, Train: 0.6448, Val: 0.5891, Test: 0.5789, Loss: 0.6910101771354675\n",
            "Epoch: 066, Train: 0.6605, Val: 0.5899, Test: 0.5792, Loss: 0.6912536025047302\n",
            "Epoch: 067, Train: 0.6441, Val: 0.5899, Test: 0.5796, Loss: 0.691020667552948\n",
            "Epoch: 068, Train: 0.6500, Val: 0.5899, Test: 0.5799, Loss: 0.6907753944396973\n",
            "Epoch: 069, Train: 0.6390, Val: 0.5895, Test: 0.5804, Loss: 0.6904705166816711\n",
            "Epoch: 070, Train: 0.6626, Val: 0.5898, Test: 0.5807, Loss: 0.690468966960907\n",
            "Epoch: 071, Train: 0.6617, Val: 0.5894, Test: 0.5811, Loss: 0.6905343532562256\n",
            "Epoch: 072, Train: 0.6596, Val: 0.5898, Test: 0.5814, Loss: 0.6903204917907715\n",
            "Epoch: 073, Train: 0.6615, Val: 0.5896, Test: 0.5815, Loss: 0.6900096535682678\n",
            "Epoch: 074, Train: 0.6646, Val: 0.5896, Test: 0.5817, Loss: 0.6897285580635071\n",
            "Epoch: 075, Train: 0.6572, Val: 0.5900, Test: 0.5821, Loss: 0.6900396347045898\n",
            "Epoch: 076, Train: 0.6611, Val: 0.5901, Test: 0.5824, Loss: 0.6893008947372437\n",
            "Epoch: 077, Train: 0.6615, Val: 0.5900, Test: 0.5831, Loss: 0.6896599531173706\n",
            "Epoch: 078, Train: 0.6532, Val: 0.5904, Test: 0.5835, Loss: 0.6888900399208069\n",
            "Epoch: 079, Train: 0.6698, Val: 0.5905, Test: 0.5841, Loss: 0.6892568469047546\n",
            "Epoch: 080, Train: 0.6611, Val: 0.5912, Test: 0.5849, Loss: 0.6886883974075317\n",
            "Epoch: 081, Train: 0.6685, Val: 0.5913, Test: 0.5853, Loss: 0.6876919865608215\n",
            "Epoch: 082, Train: 0.6536, Val: 0.5912, Test: 0.5859, Loss: 0.6877073645591736\n",
            "Epoch: 083, Train: 0.6676, Val: 0.5916, Test: 0.5865, Loss: 0.6873306035995483\n",
            "Epoch: 084, Train: 0.6628, Val: 0.5917, Test: 0.5870, Loss: 0.6869038343429565\n",
            "Epoch: 085, Train: 0.6601, Val: 0.5920, Test: 0.5877, Loss: 0.6872841715812683\n",
            "Epoch: 086, Train: 0.6632, Val: 0.5920, Test: 0.5883, Loss: 0.6861289143562317\n",
            "Epoch: 087, Train: 0.6635, Val: 0.5922, Test: 0.5893, Loss: 0.686606764793396\n",
            "Epoch: 088, Train: 0.6662, Val: 0.5927, Test: 0.5901, Loss: 0.6855011582374573\n",
            "Epoch: 089, Train: 0.6689, Val: 0.5937, Test: 0.5915, Loss: 0.6852372884750366\n",
            "Epoch: 090, Train: 0.6773, Val: 0.5948, Test: 0.5931, Loss: 0.6845911145210266\n",
            "Epoch: 091, Train: 0.6739, Val: 0.5964, Test: 0.5948, Loss: 0.6839211583137512\n",
            "Epoch: 092, Train: 0.6642, Val: 0.5980, Test: 0.5968, Loss: 0.6826635599136353\n",
            "Epoch: 093, Train: 0.6799, Val: 0.6001, Test: 0.5990, Loss: 0.6824726462364197\n",
            "Epoch: 094, Train: 0.6713, Val: 0.6025, Test: 0.6017, Loss: 0.6820899248123169\n",
            "Epoch: 095, Train: 0.6695, Val: 0.6049, Test: 0.6045, Loss: 0.6809048056602478\n",
            "Epoch: 096, Train: 0.6694, Val: 0.6077, Test: 0.6075, Loss: 0.6793289184570312\n",
            "Epoch: 097, Train: 0.6742, Val: 0.6110, Test: 0.6112, Loss: 0.679459810256958\n",
            "Epoch: 098, Train: 0.6864, Val: 0.6144, Test: 0.6147, Loss: 0.6771689057350159\n",
            "Epoch: 099, Train: 0.6843, Val: 0.6188, Test: 0.6189, Loss: 0.6764718294143677\n",
            "Epoch: 100, Train: 0.6775, Val: 0.6240, Test: 0.6235, Loss: 0.6752395629882812\n",
            "Epoch: 101, Train: 0.6913, Val: 0.6302, Test: 0.6294, Loss: 0.6745803952217102\n",
            "Epoch: 102, Train: 0.6969, Val: 0.6366, Test: 0.6361, Loss: 0.6726720333099365\n",
            "Epoch: 103, Train: 0.6987, Val: 0.6450, Test: 0.6439, Loss: 0.6720021367073059\n",
            "Epoch: 104, Train: 0.7052, Val: 0.6531, Test: 0.6525, Loss: 0.6690067052841187\n",
            "Epoch: 105, Train: 0.7151, Val: 0.6635, Test: 0.6626, Loss: 0.6683464050292969\n",
            "Epoch: 106, Train: 0.7201, Val: 0.6760, Test: 0.6746, Loss: 0.6682513356208801\n",
            "Epoch: 107, Train: 0.7271, Val: 0.6867, Test: 0.6845, Loss: 0.6616304516792297\n",
            "Epoch: 108, Train: 0.7464, Val: 0.6973, Test: 0.6942, Loss: 0.6614302396774292\n",
            "Epoch: 109, Train: 0.7528, Val: 0.7064, Test: 0.7030, Loss: 0.6576194167137146\n",
            "Epoch: 110, Train: 0.7472, Val: 0.7137, Test: 0.7100, Loss: 0.6552826762199402\n",
            "Epoch: 111, Train: 0.7522, Val: 0.7197, Test: 0.7150, Loss: 0.6519100069999695\n",
            "Epoch: 112, Train: 0.7385, Val: 0.7222, Test: 0.7174, Loss: 0.6467180848121643\n",
            "Epoch: 113, Train: 0.7548, Val: 0.7239, Test: 0.7195, Loss: 0.6418809294700623\n",
            "Epoch: 114, Train: 0.7629, Val: 0.7264, Test: 0.7216, Loss: 0.637923002243042\n",
            "Epoch: 115, Train: 0.7520, Val: 0.7290, Test: 0.7235, Loss: 0.6338865756988525\n",
            "Epoch: 116, Train: 0.7553, Val: 0.7319, Test: 0.7243, Loss: 0.6309453845024109\n",
            "Epoch: 117, Train: 0.7411, Val: 0.7328, Test: 0.7242, Loss: 0.6275231242179871\n",
            "Epoch: 118, Train: 0.7341, Val: 0.7330, Test: 0.7241, Loss: 0.6217508912086487\n",
            "Epoch: 119, Train: 0.7461, Val: 0.7329, Test: 0.7248, Loss: 0.621163547039032\n",
            "Epoch: 120, Train: 0.7321, Val: 0.7326, Test: 0.7252, Loss: 0.6296325922012329\n",
            "Epoch: 121, Train: 0.7355, Val: 0.7323, Test: 0.7254, Loss: 0.6282806992530823\n",
            "Epoch: 122, Train: 0.7437, Val: 0.7326, Test: 0.7264, Loss: 0.6285039782524109\n",
            "Epoch: 123, Train: 0.7491, Val: 0.7329, Test: 0.7272, Loss: 0.6166844367980957\n",
            "Epoch: 124, Train: 0.7432, Val: 0.7341, Test: 0.7295, Loss: 0.6180768013000488\n",
            "Epoch: 125, Train: 0.7490, Val: 0.7355, Test: 0.7318, Loss: 0.6091516613960266\n",
            "Epoch: 126, Train: 0.7486, Val: 0.7368, Test: 0.7334, Loss: 0.6143355369567871\n",
            "Epoch: 127, Train: 0.7571, Val: 0.7386, Test: 0.7345, Loss: 0.603909969329834\n",
            "Epoch: 128, Train: 0.7569, Val: 0.7408, Test: 0.7368, Loss: 0.6128062605857849\n",
            "Epoch: 129, Train: 0.7768, Val: 0.7431, Test: 0.7393, Loss: 0.611120879650116\n",
            "Epoch: 130, Train: 0.7725, Val: 0.7456, Test: 0.7419, Loss: 0.6100103259086609\n",
            "Epoch: 131, Train: 0.7792, Val: 0.7474, Test: 0.7448, Loss: 0.6002933382987976\n",
            "Epoch: 132, Train: 0.7774, Val: 0.7493, Test: 0.7475, Loss: 0.5985823273658752\n",
            "Epoch: 133, Train: 0.7965, Val: 0.7514, Test: 0.7497, Loss: 0.5998902320861816\n",
            "Epoch: 134, Train: 0.8005, Val: 0.7532, Test: 0.7520, Loss: 0.5961867570877075\n",
            "Epoch: 135, Train: 0.8014, Val: 0.7546, Test: 0.7544, Loss: 0.6015467047691345\n",
            "Epoch: 136, Train: 0.7954, Val: 0.7561, Test: 0.7569, Loss: 0.5891786217689514\n",
            "Epoch: 137, Train: 0.8098, Val: 0.7570, Test: 0.7585, Loss: 0.5790348052978516\n",
            "Epoch: 138, Train: 0.8066, Val: 0.7582, Test: 0.7604, Loss: 0.5805909037590027\n",
            "Epoch: 139, Train: 0.8170, Val: 0.7590, Test: 0.7624, Loss: 0.5828293561935425\n",
            "Epoch: 140, Train: 0.8130, Val: 0.7601, Test: 0.7645, Loss: 0.5752772688865662\n",
            "Epoch: 141, Train: 0.8069, Val: 0.7616, Test: 0.7663, Loss: 0.5795385837554932\n",
            "Epoch: 142, Train: 0.8186, Val: 0.7621, Test: 0.7678, Loss: 0.5734765529632568\n",
            "Epoch: 143, Train: 0.8175, Val: 0.7630, Test: 0.7696, Loss: 0.576786994934082\n",
            "Epoch: 144, Train: 0.8217, Val: 0.7639, Test: 0.7718, Loss: 0.5766662359237671\n",
            "Epoch: 145, Train: 0.8261, Val: 0.7650, Test: 0.7742, Loss: 0.5675787329673767\n",
            "Epoch: 146, Train: 0.8356, Val: 0.7663, Test: 0.7765, Loss: 0.5617989301681519\n",
            "Epoch: 147, Train: 0.8305, Val: 0.7686, Test: 0.7789, Loss: 0.5645356178283691\n",
            "Epoch: 148, Train: 0.8364, Val: 0.7715, Test: 0.7809, Loss: 0.5788560509681702\n",
            "Epoch: 149, Train: 0.8377, Val: 0.7730, Test: 0.7832, Loss: 0.563512921333313\n",
            "Epoch: 150, Train: 0.8429, Val: 0.7753, Test: 0.7858, Loss: 0.5678101181983948\n",
            "Epoch: 151, Train: 0.8328, Val: 0.7772, Test: 0.7881, Loss: 0.5631844401359558\n",
            "Epoch: 152, Train: 0.8451, Val: 0.7791, Test: 0.7908, Loss: 0.5544180870056152\n",
            "Epoch: 153, Train: 0.8465, Val: 0.7808, Test: 0.7928, Loss: 0.5528150200843811\n",
            "Epoch: 154, Train: 0.8507, Val: 0.7815, Test: 0.7943, Loss: 0.5470588207244873\n",
            "Epoch: 155, Train: 0.8530, Val: 0.7822, Test: 0.7948, Loss: 0.5461199879646301\n",
            "Epoch: 156, Train: 0.8613, Val: 0.7831, Test: 0.7953, Loss: 0.5568894147872925\n",
            "Epoch: 157, Train: 0.8464, Val: 0.7834, Test: 0.7960, Loss: 0.5491921305656433\n",
            "Epoch: 158, Train: 0.8636, Val: 0.7843, Test: 0.7975, Loss: 0.541588306427002\n",
            "Epoch: 159, Train: 0.8680, Val: 0.7855, Test: 0.7990, Loss: 0.5346484780311584\n",
            "Epoch: 160, Train: 0.8510, Val: 0.7858, Test: 0.8003, Loss: 0.5440851449966431\n",
            "Epoch: 161, Train: 0.8558, Val: 0.7869, Test: 0.8016, Loss: 0.5485441088676453\n",
            "Epoch: 162, Train: 0.8758, Val: 0.7870, Test: 0.8028, Loss: 0.5403788685798645\n",
            "Epoch: 163, Train: 0.8664, Val: 0.7873, Test: 0.8030, Loss: 0.5438275337219238\n",
            "Epoch: 164, Train: 0.8733, Val: 0.7880, Test: 0.8038, Loss: 0.5372818112373352\n",
            "Epoch: 165, Train: 0.8747, Val: 0.7889, Test: 0.8047, Loss: 0.5340750813484192\n",
            "Epoch: 166, Train: 0.8700, Val: 0.7896, Test: 0.8050, Loss: 0.5366021394729614\n",
            "Epoch: 167, Train: 0.8776, Val: 0.7898, Test: 0.8052, Loss: 0.5300842523574829\n",
            "Epoch: 168, Train: 0.8788, Val: 0.7900, Test: 0.8061, Loss: 0.5290775299072266\n",
            "Epoch: 169, Train: 0.8882, Val: 0.7909, Test: 0.8076, Loss: 0.5320112705230713\n",
            "Epoch: 170, Train: 0.8880, Val: 0.7923, Test: 0.8083, Loss: 0.5299011468887329\n",
            "Epoch: 171, Train: 0.8859, Val: 0.7928, Test: 0.8080, Loss: 0.5214887857437134\n",
            "Epoch: 172, Train: 0.8904, Val: 0.7928, Test: 0.8071, Loss: 0.5320945978164673\n",
            "Epoch: 173, Train: 0.8817, Val: 0.7936, Test: 0.8084, Loss: 0.5257537961006165\n",
            "Epoch: 174, Train: 0.8909, Val: 0.7942, Test: 0.8085, Loss: 0.5141689777374268\n",
            "Epoch: 175, Train: 0.8915, Val: 0.7940, Test: 0.8084, Loss: 0.5341659188270569\n",
            "Epoch: 176, Train: 0.8971, Val: 0.7954, Test: 0.8084, Loss: 0.5331125259399414\n",
            "Epoch: 177, Train: 0.8970, Val: 0.7964, Test: 0.8088, Loss: 0.5266200304031372\n",
            "Epoch: 178, Train: 0.9047, Val: 0.7976, Test: 0.8091, Loss: 0.5340046286582947\n",
            "Epoch: 179, Train: 0.8965, Val: 0.7981, Test: 0.8094, Loss: 0.5162569284439087\n",
            "Epoch: 180, Train: 0.9039, Val: 0.7988, Test: 0.8097, Loss: 0.518730103969574\n",
            "Epoch: 181, Train: 0.8985, Val: 0.7991, Test: 0.8093, Loss: 0.5281183123588562\n",
            "Epoch: 182, Train: 0.9089, Val: 0.7992, Test: 0.8096, Loss: 0.5180351734161377\n",
            "Epoch: 183, Train: 0.9038, Val: 0.7988, Test: 0.8092, Loss: 0.5130349397659302\n",
            "Epoch: 184, Train: 0.9097, Val: 0.7988, Test: 0.8091, Loss: 0.5131574273109436\n",
            "Epoch: 185, Train: 0.9008, Val: 0.7993, Test: 0.8093, Loss: 0.5200983881950378\n",
            "Epoch: 186, Train: 0.9069, Val: 0.8004, Test: 0.8096, Loss: 0.5004474520683289\n",
            "Epoch: 187, Train: 0.9161, Val: 0.8012, Test: 0.8090, Loss: 0.5022805333137512\n",
            "Epoch: 188, Train: 0.9034, Val: 0.8011, Test: 0.8085, Loss: 0.5140554904937744\n",
            "Epoch: 189, Train: 0.9051, Val: 0.8009, Test: 0.8095, Loss: 0.5119384527206421\n",
            "Epoch: 190, Train: 0.9083, Val: 0.8003, Test: 0.8095, Loss: 0.5013970732688904\n",
            "Epoch: 191, Train: 0.9093, Val: 0.7990, Test: 0.8086, Loss: 0.5118399262428284\n",
            "Epoch: 192, Train: 0.9154, Val: 0.7991, Test: 0.8076, Loss: 0.5010368227958679\n",
            "Epoch: 193, Train: 0.9114, Val: 0.8001, Test: 0.8084, Loss: 0.5174983739852905\n",
            "Epoch: 194, Train: 0.9201, Val: 0.8009, Test: 0.8093, Loss: 0.508734941482544\n",
            "Epoch: 195, Train: 0.9167, Val: 0.8014, Test: 0.8087, Loss: 0.5046530365943909\n",
            "Epoch: 196, Train: 0.9166, Val: 0.8010, Test: 0.8082, Loss: 0.5049633979797363\n",
            "Epoch: 197, Train: 0.9243, Val: 0.8009, Test: 0.8092, Loss: 0.49981755018234253\n",
            "Epoch: 198, Train: 0.9162, Val: 0.7998, Test: 0.8090, Loss: 0.5055168271064758\n",
            "Epoch: 199, Train: 0.9259, Val: 0.7993, Test: 0.8075, Loss: 0.49998587369918823\n",
            "Train: 0.9168, Val: 0.8014, Test: 0.8087\n"
          ],
          "name": "stdout"
        }
      ]
    },
    {
      "cell_type": "markdown",
      "metadata": {
        "id": "j5brlsKElP0_"
      },
      "source": [
        "## Question 4: What is the maximum ROC-AUC score you could get for the best_model on test set? (13 points)\n",
        "\n",
        "Submit your answers on Gradescope."
      ]
    },
    {
      "cell_type": "markdown",
      "metadata": {
        "id": "e7JXsMTBgeOI"
      },
      "source": [
        "# Submission\n",
        "\n",
        "In order to get credit, you must go submit your answers on Gradescope.\n",
        "\n",
        "Also, you need to submit the `ipynb` file of Colab 3, by clicking `File` and `Download .ipynb`. Please make sure that your output of each cell is available in your `ipynb` file."
      ]
    },
    {
      "cell_type": "code",
      "metadata": {
        "id": "aFA4L8xic0a5"
      },
      "source": [
        ""
      ],
      "execution_count": null,
      "outputs": []
    }
  ]
}